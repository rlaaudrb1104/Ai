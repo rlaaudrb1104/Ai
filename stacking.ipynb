{
  "nbformat": 4,
  "nbformat_minor": 0,
  "metadata": {
    "colab": {
      "provenance": [],
      "machine_shape": "hm",
      "gpuType": "A100",
      "mount_file_id": "1dR77YtPtJMpvna9i4JjnyvbVoZ0rfSf8",
      "authorship_tag": "ABX9TyOC4z0+7r1rR+OiNZ5k1u+Y",
      "include_colab_link": true
    },
    "kernelspec": {
      "name": "python3",
      "display_name": "Python 3"
    },
    "language_info": {
      "name": "python"
    },
    "accelerator": "GPU",
    "widgets": {
      "application/vnd.jupyter.widget-state+json": {
        "7e7c0b1f4fd64d47b4418a6e7b1dc530": {
          "model_module": "@jupyter-widgets/controls",
          "model_name": "HBoxModel",
          "model_module_version": "1.5.0",
          "state": {
            "_dom_classes": [],
            "_model_module": "@jupyter-widgets/controls",
            "_model_module_version": "1.5.0",
            "_model_name": "HBoxModel",
            "_view_count": null,
            "_view_module": "@jupyter-widgets/controls",
            "_view_module_version": "1.5.0",
            "_view_name": "HBoxView",
            "box_style": "",
            "children": [
              "IPY_MODEL_ff9412f9306e4b919213e6f55848749a",
              "IPY_MODEL_492b4b017dd04265bc078e9da30c2f80",
              "IPY_MODEL_e6ee02d1c38b4afeb5f390071754b957"
            ],
            "layout": "IPY_MODEL_072181cc74c64db9bbecc01dac87880c"
          }
        },
        "ff9412f9306e4b919213e6f55848749a": {
          "model_module": "@jupyter-widgets/controls",
          "model_name": "HTMLModel",
          "model_module_version": "1.5.0",
          "state": {
            "_dom_classes": [],
            "_model_module": "@jupyter-widgets/controls",
            "_model_module_version": "1.5.0",
            "_model_name": "HTMLModel",
            "_view_count": null,
            "_view_module": "@jupyter-widgets/controls",
            "_view_module_version": "1.5.0",
            "_view_name": "HTMLView",
            "description": "",
            "description_tooltip": null,
            "layout": "IPY_MODEL_f05be24e252c452a83f69ca6778052d1",
            "placeholder": "​",
            "style": "IPY_MODEL_6f81bd42aeec4ccd84b05b0ae740f2e5",
            "value": "Generating train split: "
          }
        },
        "492b4b017dd04265bc078e9da30c2f80": {
          "model_module": "@jupyter-widgets/controls",
          "model_name": "FloatProgressModel",
          "model_module_version": "1.5.0",
          "state": {
            "_dom_classes": [],
            "_model_module": "@jupyter-widgets/controls",
            "_model_module_version": "1.5.0",
            "_model_name": "FloatProgressModel",
            "_view_count": null,
            "_view_module": "@jupyter-widgets/controls",
            "_view_module_version": "1.5.0",
            "_view_name": "ProgressView",
            "bar_style": "success",
            "description": "",
            "description_tooltip": null,
            "layout": "IPY_MODEL_dec078ef400f41ae8e42cb13463f47d6",
            "max": 1,
            "min": 0,
            "orientation": "horizontal",
            "style": "IPY_MODEL_bfaed9048361476585e6edba7d9cc632",
            "value": 1
          }
        },
        "e6ee02d1c38b4afeb5f390071754b957": {
          "model_module": "@jupyter-widgets/controls",
          "model_name": "HTMLModel",
          "model_module_version": "1.5.0",
          "state": {
            "_dom_classes": [],
            "_model_module": "@jupyter-widgets/controls",
            "_model_module_version": "1.5.0",
            "_model_name": "HTMLModel",
            "_view_count": null,
            "_view_module": "@jupyter-widgets/controls",
            "_view_module_version": "1.5.0",
            "_view_name": "HTMLView",
            "description": "",
            "description_tooltip": null,
            "layout": "IPY_MODEL_66ec2f6f98ae47cb9273c03841562098",
            "placeholder": "​",
            "style": "IPY_MODEL_690247275a9041aaad4e12a64842f243",
            "value": " 18616/0 [00:00&lt;00:00, 35012.81 examples/s]"
          }
        },
        "072181cc74c64db9bbecc01dac87880c": {
          "model_module": "@jupyter-widgets/base",
          "model_name": "LayoutModel",
          "model_module_version": "1.2.0",
          "state": {
            "_model_module": "@jupyter-widgets/base",
            "_model_module_version": "1.2.0",
            "_model_name": "LayoutModel",
            "_view_count": null,
            "_view_module": "@jupyter-widgets/base",
            "_view_module_version": "1.2.0",
            "_view_name": "LayoutView",
            "align_content": null,
            "align_items": null,
            "align_self": null,
            "border": null,
            "bottom": null,
            "display": null,
            "flex": null,
            "flex_flow": null,
            "grid_area": null,
            "grid_auto_columns": null,
            "grid_auto_flow": null,
            "grid_auto_rows": null,
            "grid_column": null,
            "grid_gap": null,
            "grid_row": null,
            "grid_template_areas": null,
            "grid_template_columns": null,
            "grid_template_rows": null,
            "height": null,
            "justify_content": null,
            "justify_items": null,
            "left": null,
            "margin": null,
            "max_height": null,
            "max_width": null,
            "min_height": null,
            "min_width": null,
            "object_fit": null,
            "object_position": null,
            "order": null,
            "overflow": null,
            "overflow_x": null,
            "overflow_y": null,
            "padding": null,
            "right": null,
            "top": null,
            "visibility": null,
            "width": null
          }
        },
        "f05be24e252c452a83f69ca6778052d1": {
          "model_module": "@jupyter-widgets/base",
          "model_name": "LayoutModel",
          "model_module_version": "1.2.0",
          "state": {
            "_model_module": "@jupyter-widgets/base",
            "_model_module_version": "1.2.0",
            "_model_name": "LayoutModel",
            "_view_count": null,
            "_view_module": "@jupyter-widgets/base",
            "_view_module_version": "1.2.0",
            "_view_name": "LayoutView",
            "align_content": null,
            "align_items": null,
            "align_self": null,
            "border": null,
            "bottom": null,
            "display": null,
            "flex": null,
            "flex_flow": null,
            "grid_area": null,
            "grid_auto_columns": null,
            "grid_auto_flow": null,
            "grid_auto_rows": null,
            "grid_column": null,
            "grid_gap": null,
            "grid_row": null,
            "grid_template_areas": null,
            "grid_template_columns": null,
            "grid_template_rows": null,
            "height": null,
            "justify_content": null,
            "justify_items": null,
            "left": null,
            "margin": null,
            "max_height": null,
            "max_width": null,
            "min_height": null,
            "min_width": null,
            "object_fit": null,
            "object_position": null,
            "order": null,
            "overflow": null,
            "overflow_x": null,
            "overflow_y": null,
            "padding": null,
            "right": null,
            "top": null,
            "visibility": null,
            "width": null
          }
        },
        "6f81bd42aeec4ccd84b05b0ae740f2e5": {
          "model_module": "@jupyter-widgets/controls",
          "model_name": "DescriptionStyleModel",
          "model_module_version": "1.5.0",
          "state": {
            "_model_module": "@jupyter-widgets/controls",
            "_model_module_version": "1.5.0",
            "_model_name": "DescriptionStyleModel",
            "_view_count": null,
            "_view_module": "@jupyter-widgets/base",
            "_view_module_version": "1.2.0",
            "_view_name": "StyleView",
            "description_width": ""
          }
        },
        "dec078ef400f41ae8e42cb13463f47d6": {
          "model_module": "@jupyter-widgets/base",
          "model_name": "LayoutModel",
          "model_module_version": "1.2.0",
          "state": {
            "_model_module": "@jupyter-widgets/base",
            "_model_module_version": "1.2.0",
            "_model_name": "LayoutModel",
            "_view_count": null,
            "_view_module": "@jupyter-widgets/base",
            "_view_module_version": "1.2.0",
            "_view_name": "LayoutView",
            "align_content": null,
            "align_items": null,
            "align_self": null,
            "border": null,
            "bottom": null,
            "display": null,
            "flex": null,
            "flex_flow": null,
            "grid_area": null,
            "grid_auto_columns": null,
            "grid_auto_flow": null,
            "grid_auto_rows": null,
            "grid_column": null,
            "grid_gap": null,
            "grid_row": null,
            "grid_template_areas": null,
            "grid_template_columns": null,
            "grid_template_rows": null,
            "height": null,
            "justify_content": null,
            "justify_items": null,
            "left": null,
            "margin": null,
            "max_height": null,
            "max_width": null,
            "min_height": null,
            "min_width": null,
            "object_fit": null,
            "object_position": null,
            "order": null,
            "overflow": null,
            "overflow_x": null,
            "overflow_y": null,
            "padding": null,
            "right": null,
            "top": null,
            "visibility": null,
            "width": "20px"
          }
        },
        "bfaed9048361476585e6edba7d9cc632": {
          "model_module": "@jupyter-widgets/controls",
          "model_name": "ProgressStyleModel",
          "model_module_version": "1.5.0",
          "state": {
            "_model_module": "@jupyter-widgets/controls",
            "_model_module_version": "1.5.0",
            "_model_name": "ProgressStyleModel",
            "_view_count": null,
            "_view_module": "@jupyter-widgets/base",
            "_view_module_version": "1.2.0",
            "_view_name": "StyleView",
            "bar_color": null,
            "description_width": ""
          }
        },
        "66ec2f6f98ae47cb9273c03841562098": {
          "model_module": "@jupyter-widgets/base",
          "model_name": "LayoutModel",
          "model_module_version": "1.2.0",
          "state": {
            "_model_module": "@jupyter-widgets/base",
            "_model_module_version": "1.2.0",
            "_model_name": "LayoutModel",
            "_view_count": null,
            "_view_module": "@jupyter-widgets/base",
            "_view_module_version": "1.2.0",
            "_view_name": "LayoutView",
            "align_content": null,
            "align_items": null,
            "align_self": null,
            "border": null,
            "bottom": null,
            "display": null,
            "flex": null,
            "flex_flow": null,
            "grid_area": null,
            "grid_auto_columns": null,
            "grid_auto_flow": null,
            "grid_auto_rows": null,
            "grid_column": null,
            "grid_gap": null,
            "grid_row": null,
            "grid_template_areas": null,
            "grid_template_columns": null,
            "grid_template_rows": null,
            "height": null,
            "justify_content": null,
            "justify_items": null,
            "left": null,
            "margin": null,
            "max_height": null,
            "max_width": null,
            "min_height": null,
            "min_width": null,
            "object_fit": null,
            "object_position": null,
            "order": null,
            "overflow": null,
            "overflow_x": null,
            "overflow_y": null,
            "padding": null,
            "right": null,
            "top": null,
            "visibility": null,
            "width": null
          }
        },
        "690247275a9041aaad4e12a64842f243": {
          "model_module": "@jupyter-widgets/controls",
          "model_name": "DescriptionStyleModel",
          "model_module_version": "1.5.0",
          "state": {
            "_model_module": "@jupyter-widgets/controls",
            "_model_module_version": "1.5.0",
            "_model_name": "DescriptionStyleModel",
            "_view_count": null,
            "_view_module": "@jupyter-widgets/base",
            "_view_module_version": "1.2.0",
            "_view_name": "StyleView",
            "description_width": ""
          }
        },
        "7a71dee02de648cfb91ff5b792428171": {
          "model_module": "@jupyter-widgets/controls",
          "model_name": "HBoxModel",
          "model_module_version": "1.5.0",
          "state": {
            "_dom_classes": [],
            "_model_module": "@jupyter-widgets/controls",
            "_model_module_version": "1.5.0",
            "_model_name": "HBoxModel",
            "_view_count": null,
            "_view_module": "@jupyter-widgets/controls",
            "_view_module_version": "1.5.0",
            "_view_name": "HBoxView",
            "box_style": "",
            "children": [
              "IPY_MODEL_af05501a3a174dddb155eb0cc9deb626",
              "IPY_MODEL_9457ce7106d54b269ddc30e7404f3f55",
              "IPY_MODEL_00217b45f72e4479ba59afc26dc9249b"
            ],
            "layout": "IPY_MODEL_796731efd99b4daeab8a9e88b76d149a"
          }
        },
        "af05501a3a174dddb155eb0cc9deb626": {
          "model_module": "@jupyter-widgets/controls",
          "model_name": "HTMLModel",
          "model_module_version": "1.5.0",
          "state": {
            "_dom_classes": [],
            "_model_module": "@jupyter-widgets/controls",
            "_model_module_version": "1.5.0",
            "_model_name": "HTMLModel",
            "_view_count": null,
            "_view_module": "@jupyter-widgets/controls",
            "_view_module_version": "1.5.0",
            "_view_name": "HTMLView",
            "description": "",
            "description_tooltip": null,
            "layout": "IPY_MODEL_330720ff23cd4713bfcb207d4ff663d0",
            "placeholder": "​",
            "style": "IPY_MODEL_0134bebdbce541a0bdf62e4c39f459bf",
            "value": "Map: 100%"
          }
        },
        "9457ce7106d54b269ddc30e7404f3f55": {
          "model_module": "@jupyter-widgets/controls",
          "model_name": "FloatProgressModel",
          "model_module_version": "1.5.0",
          "state": {
            "_dom_classes": [],
            "_model_module": "@jupyter-widgets/controls",
            "_model_module_version": "1.5.0",
            "_model_name": "FloatProgressModel",
            "_view_count": null,
            "_view_module": "@jupyter-widgets/controls",
            "_view_module_version": "1.5.0",
            "_view_name": "ProgressView",
            "bar_style": "success",
            "description": "",
            "description_tooltip": null,
            "layout": "IPY_MODEL_ac322ea6869c454f828f472c92b1c5a4",
            "max": 18616,
            "min": 0,
            "orientation": "horizontal",
            "style": "IPY_MODEL_7e6d8e31fec24e46a80006760ca88dab",
            "value": 18616
          }
        },
        "00217b45f72e4479ba59afc26dc9249b": {
          "model_module": "@jupyter-widgets/controls",
          "model_name": "HTMLModel",
          "model_module_version": "1.5.0",
          "state": {
            "_dom_classes": [],
            "_model_module": "@jupyter-widgets/controls",
            "_model_module_version": "1.5.0",
            "_model_name": "HTMLModel",
            "_view_count": null,
            "_view_module": "@jupyter-widgets/controls",
            "_view_module_version": "1.5.0",
            "_view_name": "HTMLView",
            "description": "",
            "description_tooltip": null,
            "layout": "IPY_MODEL_f42d4ea5926d4cdb889c10b043ebad40",
            "placeholder": "​",
            "style": "IPY_MODEL_3a1f62f30b0549b69bd2c26337c3f4a9",
            "value": " 18616/18616 [00:50&lt;00:00, 1029.36 examples/s]"
          }
        },
        "796731efd99b4daeab8a9e88b76d149a": {
          "model_module": "@jupyter-widgets/base",
          "model_name": "LayoutModel",
          "model_module_version": "1.2.0",
          "state": {
            "_model_module": "@jupyter-widgets/base",
            "_model_module_version": "1.2.0",
            "_model_name": "LayoutModel",
            "_view_count": null,
            "_view_module": "@jupyter-widgets/base",
            "_view_module_version": "1.2.0",
            "_view_name": "LayoutView",
            "align_content": null,
            "align_items": null,
            "align_self": null,
            "border": null,
            "bottom": null,
            "display": null,
            "flex": null,
            "flex_flow": null,
            "grid_area": null,
            "grid_auto_columns": null,
            "grid_auto_flow": null,
            "grid_auto_rows": null,
            "grid_column": null,
            "grid_gap": null,
            "grid_row": null,
            "grid_template_areas": null,
            "grid_template_columns": null,
            "grid_template_rows": null,
            "height": null,
            "justify_content": null,
            "justify_items": null,
            "left": null,
            "margin": null,
            "max_height": null,
            "max_width": null,
            "min_height": null,
            "min_width": null,
            "object_fit": null,
            "object_position": null,
            "order": null,
            "overflow": null,
            "overflow_x": null,
            "overflow_y": null,
            "padding": null,
            "right": null,
            "top": null,
            "visibility": null,
            "width": null
          }
        },
        "330720ff23cd4713bfcb207d4ff663d0": {
          "model_module": "@jupyter-widgets/base",
          "model_name": "LayoutModel",
          "model_module_version": "1.2.0",
          "state": {
            "_model_module": "@jupyter-widgets/base",
            "_model_module_version": "1.2.0",
            "_model_name": "LayoutModel",
            "_view_count": null,
            "_view_module": "@jupyter-widgets/base",
            "_view_module_version": "1.2.0",
            "_view_name": "LayoutView",
            "align_content": null,
            "align_items": null,
            "align_self": null,
            "border": null,
            "bottom": null,
            "display": null,
            "flex": null,
            "flex_flow": null,
            "grid_area": null,
            "grid_auto_columns": null,
            "grid_auto_flow": null,
            "grid_auto_rows": null,
            "grid_column": null,
            "grid_gap": null,
            "grid_row": null,
            "grid_template_areas": null,
            "grid_template_columns": null,
            "grid_template_rows": null,
            "height": null,
            "justify_content": null,
            "justify_items": null,
            "left": null,
            "margin": null,
            "max_height": null,
            "max_width": null,
            "min_height": null,
            "min_width": null,
            "object_fit": null,
            "object_position": null,
            "order": null,
            "overflow": null,
            "overflow_x": null,
            "overflow_y": null,
            "padding": null,
            "right": null,
            "top": null,
            "visibility": null,
            "width": null
          }
        },
        "0134bebdbce541a0bdf62e4c39f459bf": {
          "model_module": "@jupyter-widgets/controls",
          "model_name": "DescriptionStyleModel",
          "model_module_version": "1.5.0",
          "state": {
            "_model_module": "@jupyter-widgets/controls",
            "_model_module_version": "1.5.0",
            "_model_name": "DescriptionStyleModel",
            "_view_count": null,
            "_view_module": "@jupyter-widgets/base",
            "_view_module_version": "1.2.0",
            "_view_name": "StyleView",
            "description_width": ""
          }
        },
        "ac322ea6869c454f828f472c92b1c5a4": {
          "model_module": "@jupyter-widgets/base",
          "model_name": "LayoutModel",
          "model_module_version": "1.2.0",
          "state": {
            "_model_module": "@jupyter-widgets/base",
            "_model_module_version": "1.2.0",
            "_model_name": "LayoutModel",
            "_view_count": null,
            "_view_module": "@jupyter-widgets/base",
            "_view_module_version": "1.2.0",
            "_view_name": "LayoutView",
            "align_content": null,
            "align_items": null,
            "align_self": null,
            "border": null,
            "bottom": null,
            "display": null,
            "flex": null,
            "flex_flow": null,
            "grid_area": null,
            "grid_auto_columns": null,
            "grid_auto_flow": null,
            "grid_auto_rows": null,
            "grid_column": null,
            "grid_gap": null,
            "grid_row": null,
            "grid_template_areas": null,
            "grid_template_columns": null,
            "grid_template_rows": null,
            "height": null,
            "justify_content": null,
            "justify_items": null,
            "left": null,
            "margin": null,
            "max_height": null,
            "max_width": null,
            "min_height": null,
            "min_width": null,
            "object_fit": null,
            "object_position": null,
            "order": null,
            "overflow": null,
            "overflow_x": null,
            "overflow_y": null,
            "padding": null,
            "right": null,
            "top": null,
            "visibility": null,
            "width": null
          }
        },
        "7e6d8e31fec24e46a80006760ca88dab": {
          "model_module": "@jupyter-widgets/controls",
          "model_name": "ProgressStyleModel",
          "model_module_version": "1.5.0",
          "state": {
            "_model_module": "@jupyter-widgets/controls",
            "_model_module_version": "1.5.0",
            "_model_name": "ProgressStyleModel",
            "_view_count": null,
            "_view_module": "@jupyter-widgets/base",
            "_view_module_version": "1.2.0",
            "_view_name": "StyleView",
            "bar_color": null,
            "description_width": ""
          }
        },
        "f42d4ea5926d4cdb889c10b043ebad40": {
          "model_module": "@jupyter-widgets/base",
          "model_name": "LayoutModel",
          "model_module_version": "1.2.0",
          "state": {
            "_model_module": "@jupyter-widgets/base",
            "_model_module_version": "1.2.0",
            "_model_name": "LayoutModel",
            "_view_count": null,
            "_view_module": "@jupyter-widgets/base",
            "_view_module_version": "1.2.0",
            "_view_name": "LayoutView",
            "align_content": null,
            "align_items": null,
            "align_self": null,
            "border": null,
            "bottom": null,
            "display": null,
            "flex": null,
            "flex_flow": null,
            "grid_area": null,
            "grid_auto_columns": null,
            "grid_auto_flow": null,
            "grid_auto_rows": null,
            "grid_column": null,
            "grid_gap": null,
            "grid_row": null,
            "grid_template_areas": null,
            "grid_template_columns": null,
            "grid_template_rows": null,
            "height": null,
            "justify_content": null,
            "justify_items": null,
            "left": null,
            "margin": null,
            "max_height": null,
            "max_width": null,
            "min_height": null,
            "min_width": null,
            "object_fit": null,
            "object_position": null,
            "order": null,
            "overflow": null,
            "overflow_x": null,
            "overflow_y": null,
            "padding": null,
            "right": null,
            "top": null,
            "visibility": null,
            "width": null
          }
        },
        "3a1f62f30b0549b69bd2c26337c3f4a9": {
          "model_module": "@jupyter-widgets/controls",
          "model_name": "DescriptionStyleModel",
          "model_module_version": "1.5.0",
          "state": {
            "_model_module": "@jupyter-widgets/controls",
            "_model_module_version": "1.5.0",
            "_model_name": "DescriptionStyleModel",
            "_view_count": null,
            "_view_module": "@jupyter-widgets/base",
            "_view_module_version": "1.2.0",
            "_view_name": "StyleView",
            "description_width": ""
          }
        }
      }
    }
  },
  "cells": [
    {
      "cell_type": "markdown",
      "metadata": {
        "id": "view-in-github",
        "colab_type": "text"
      },
      "source": [
        "<a href=\"https://colab.research.google.com/github/rlaaudrb1104/Ai/blob/KMG/stacking.ipynb\" target=\"_parent\"><img src=\"https://colab.research.google.com/assets/colab-badge.svg\" alt=\"Open In Colab\"/></a>"
      ]
    },
    {
      "cell_type": "code",
      "source": [
        "!pip install datasets\n",
        "!pip install accelerate\n",
        "!pip install transformers==4.30\n",
        "!pip install pytorch"
      ],
      "metadata": {
        "colab": {
          "base_uri": "https://localhost:8080/"
        },
        "id": "yTzqlqXlvEE9",
        "outputId": "240e40df-6823-4164-f69c-42fbdb485ffe"
      },
      "execution_count": 2,
      "outputs": [
        {
          "output_type": "stream",
          "name": "stdout",
          "text": [
            "Requirement already satisfied: datasets in /usr/local/lib/python3.10/dist-packages (2.19.0)\n",
            "Requirement already satisfied: filelock in /usr/local/lib/python3.10/dist-packages (from datasets) (3.13.4)\n",
            "Requirement already satisfied: numpy>=1.17 in /usr/local/lib/python3.10/dist-packages (from datasets) (1.25.2)\n",
            "Requirement already satisfied: pyarrow>=12.0.0 in /usr/local/lib/python3.10/dist-packages (from datasets) (14.0.2)\n",
            "Requirement already satisfied: pyarrow-hotfix in /usr/local/lib/python3.10/dist-packages (from datasets) (0.6)\n",
            "Requirement already satisfied: dill<0.3.9,>=0.3.0 in /usr/local/lib/python3.10/dist-packages (from datasets) (0.3.8)\n",
            "Requirement already satisfied: pandas in /usr/local/lib/python3.10/dist-packages (from datasets) (2.0.3)\n",
            "Requirement already satisfied: requests>=2.19.0 in /usr/local/lib/python3.10/dist-packages (from datasets) (2.31.0)\n",
            "Requirement already satisfied: tqdm>=4.62.1 in /usr/local/lib/python3.10/dist-packages (from datasets) (4.66.2)\n",
            "Requirement already satisfied: xxhash in /usr/local/lib/python3.10/dist-packages (from datasets) (3.4.1)\n",
            "Requirement already satisfied: multiprocess in /usr/local/lib/python3.10/dist-packages (from datasets) (0.70.16)\n",
            "Requirement already satisfied: fsspec[http]<=2024.3.1,>=2023.1.0 in /usr/local/lib/python3.10/dist-packages (from datasets) (2023.6.0)\n",
            "Requirement already satisfied: aiohttp in /usr/local/lib/python3.10/dist-packages (from datasets) (3.9.5)\n",
            "Requirement already satisfied: huggingface-hub>=0.21.2 in /usr/local/lib/python3.10/dist-packages (from datasets) (0.22.2)\n",
            "Requirement already satisfied: packaging in /usr/local/lib/python3.10/dist-packages (from datasets) (24.0)\n",
            "Requirement already satisfied: pyyaml>=5.1 in /usr/local/lib/python3.10/dist-packages (from datasets) (6.0.1)\n",
            "Requirement already satisfied: aiosignal>=1.1.2 in /usr/local/lib/python3.10/dist-packages (from aiohttp->datasets) (1.3.1)\n",
            "Requirement already satisfied: attrs>=17.3.0 in /usr/local/lib/python3.10/dist-packages (from aiohttp->datasets) (23.2.0)\n",
            "Requirement already satisfied: frozenlist>=1.1.1 in /usr/local/lib/python3.10/dist-packages (from aiohttp->datasets) (1.4.1)\n",
            "Requirement already satisfied: multidict<7.0,>=4.5 in /usr/local/lib/python3.10/dist-packages (from aiohttp->datasets) (6.0.5)\n",
            "Requirement already satisfied: yarl<2.0,>=1.0 in /usr/local/lib/python3.10/dist-packages (from aiohttp->datasets) (1.9.4)\n",
            "Requirement already satisfied: async-timeout<5.0,>=4.0 in /usr/local/lib/python3.10/dist-packages (from aiohttp->datasets) (4.0.3)\n",
            "Requirement already satisfied: typing-extensions>=3.7.4.3 in /usr/local/lib/python3.10/dist-packages (from huggingface-hub>=0.21.2->datasets) (4.11.0)\n",
            "Requirement already satisfied: charset-normalizer<4,>=2 in /usr/local/lib/python3.10/dist-packages (from requests>=2.19.0->datasets) (3.3.2)\n",
            "Requirement already satisfied: idna<4,>=2.5 in /usr/local/lib/python3.10/dist-packages (from requests>=2.19.0->datasets) (3.7)\n",
            "Requirement already satisfied: urllib3<3,>=1.21.1 in /usr/local/lib/python3.10/dist-packages (from requests>=2.19.0->datasets) (2.0.7)\n",
            "Requirement already satisfied: certifi>=2017.4.17 in /usr/local/lib/python3.10/dist-packages (from requests>=2.19.0->datasets) (2024.2.2)\n",
            "Requirement already satisfied: python-dateutil>=2.8.2 in /usr/local/lib/python3.10/dist-packages (from pandas->datasets) (2.8.2)\n",
            "Requirement already satisfied: pytz>=2020.1 in /usr/local/lib/python3.10/dist-packages (from pandas->datasets) (2023.4)\n",
            "Requirement already satisfied: tzdata>=2022.1 in /usr/local/lib/python3.10/dist-packages (from pandas->datasets) (2024.1)\n",
            "Requirement already satisfied: six>=1.5 in /usr/local/lib/python3.10/dist-packages (from python-dateutil>=2.8.2->pandas->datasets) (1.16.0)\n"
          ]
        }
      ]
    },
    {
      "cell_type": "code",
      "execution_count": 3,
      "metadata": {
        "id": "kV8IwCtXWaHL"
      },
      "outputs": [],
      "source": [
        "import pandas as pd\n",
        "import numpy as np\n",
        "import torch\n",
        "from sklearn.model_selection import StratifiedKFold\n",
        "from sklearn.linear_model import LogisticRegression\n",
        "from sklearn.metrics import accuracy_score\n",
        "from transformers import RobertaTokenizer, RobertaForSequenceClassification\n",
        "from datasets import load_dataset\n",
        "import re\n",
        "import torch.nn as nn\n",
        "import torch.optim as optim\n",
        "from torch.utils.data import DataLoader, TensorDataset"
      ]
    },
    {
      "cell_type": "code",
      "source": [
        "# 모델과 토크나이저 로드\n",
        "tokenizer_codebert = RobertaTokenizer.from_pretrained(\"microsoft/codebert-base\")\n",
        "model_codebert = RobertaForSequenceClassification.from_pretrained(\"microsoft/codebert-base\", num_labels = 11)\n",
        "\n",
        "tokenizer_codebert_mlm = RobertaTokenizer.from_pretrained(\"microsoft/codebert-base-mlm\")\n",
        "model_codebert_mlm = RobertaForSequenceClassification.from_pretrained(\"microsoft/codebert-base-mlm\", num_labels = 11)\n",
        "\n",
        "tokenizer_graphcodebert = RobertaTokenizer.from_pretrained(\"microsoft/graphcodebert-base\")\n",
        "model_graphcodebert = RobertaForSequenceClassification.from_pretrained(\"microsoft/graphcodebert-base\", num_labels = 11)\n",
        "\n",
        "tokenizer_unixcoder = RobertaTokenizer.from_pretrained(\"microsoft/unixcoder-base-nine\")\n",
        "model_unixcoder = RobertaForSequenceClassification.from_pretrained(\"microsoft/unixcoder-base-nine\", num_labels = 11)\n",
        "\n",
        "batch_size = 16\n",
        "epoch_num = 7\n",
        "MAX_LEN = 512\n",
        "learning_rate = 2e-5"
      ],
      "metadata": {
        "colab": {
          "base_uri": "https://localhost:8080/"
        },
        "id": "0F2ZnNQGW9zN",
        "outputId": "e6ac4be1-0eb4-498e-9874-7061995f7003"
      },
      "execution_count": 4,
      "outputs": [
        {
          "output_type": "stream",
          "name": "stderr",
          "text": [
            "/usr/local/lib/python3.10/dist-packages/huggingface_hub/utils/_token.py:89: UserWarning: \n",
            "The secret `HF_TOKEN` does not exist in your Colab secrets.\n",
            "To authenticate with the Hugging Face Hub, create a token in your settings tab (https://huggingface.co/settings/tokens), set it as secret in your Google Colab and restart your session.\n",
            "You will be able to reuse this secret in all of your notebooks.\n",
            "Please note that authentication is recommended but still optional to access public models or datasets.\n",
            "  warnings.warn(\n",
            "Some weights of the model checkpoint at microsoft/codebert-base were not used when initializing RobertaForSequenceClassification: ['pooler.dense.weight', 'pooler.dense.bias']\n",
            "- This IS expected if you are initializing RobertaForSequenceClassification from the checkpoint of a model trained on another task or with another architecture (e.g. initializing a BertForSequenceClassification model from a BertForPreTraining model).\n",
            "- This IS NOT expected if you are initializing RobertaForSequenceClassification from the checkpoint of a model that you expect to be exactly identical (initializing a BertForSequenceClassification model from a BertForSequenceClassification model).\n",
            "Some weights of RobertaForSequenceClassification were not initialized from the model checkpoint at microsoft/codebert-base and are newly initialized: ['classifier.dense.bias', 'classifier.out_proj.weight', 'classifier.dense.weight', 'classifier.out_proj.bias']\n",
            "You should probably TRAIN this model on a down-stream task to be able to use it for predictions and inference.\n",
            "Some weights of the model checkpoint at microsoft/codebert-base-mlm were not used when initializing RobertaForSequenceClassification: ['roberta.pooler.dense.bias', 'lm_head.dense.weight', 'lm_head.dense.bias', 'lm_head.decoder.weight', 'roberta.pooler.dense.weight', 'lm_head.decoder.bias', 'lm_head.bias', 'lm_head.layer_norm.weight', 'lm_head.layer_norm.bias']\n",
            "- This IS expected if you are initializing RobertaForSequenceClassification from the checkpoint of a model trained on another task or with another architecture (e.g. initializing a BertForSequenceClassification model from a BertForPreTraining model).\n",
            "- This IS NOT expected if you are initializing RobertaForSequenceClassification from the checkpoint of a model that you expect to be exactly identical (initializing a BertForSequenceClassification model from a BertForSequenceClassification model).\n",
            "Some weights of RobertaForSequenceClassification were not initialized from the model checkpoint at microsoft/codebert-base-mlm and are newly initialized: ['classifier.dense.bias', 'classifier.out_proj.weight', 'classifier.dense.weight', 'classifier.out_proj.bias']\n",
            "You should probably TRAIN this model on a down-stream task to be able to use it for predictions and inference.\n",
            "Some weights of the model checkpoint at microsoft/graphcodebert-base were not used when initializing RobertaForSequenceClassification: ['lm_head.dense.weight', 'lm_head.dense.bias', 'lm_head.decoder.weight', 'lm_head.decoder.bias', 'lm_head.bias', 'lm_head.layer_norm.weight', 'lm_head.layer_norm.bias']\n",
            "- This IS expected if you are initializing RobertaForSequenceClassification from the checkpoint of a model trained on another task or with another architecture (e.g. initializing a BertForSequenceClassification model from a BertForPreTraining model).\n",
            "- This IS NOT expected if you are initializing RobertaForSequenceClassification from the checkpoint of a model that you expect to be exactly identical (initializing a BertForSequenceClassification model from a BertForSequenceClassification model).\n",
            "Some weights of RobertaForSequenceClassification were not initialized from the model checkpoint at microsoft/graphcodebert-base and are newly initialized: ['classifier.out_proj.bias', 'classifier.dense.weight', 'classifier.dense.bias', 'classifier.out_proj.weight']\n",
            "You should probably TRAIN this model on a down-stream task to be able to use it for predictions and inference.\n",
            "Some weights of the model checkpoint at microsoft/unixcoder-base-nine were not used when initializing RobertaForSequenceClassification: ['pooler.dense.weight', 'pooler.dense.bias']\n",
            "- This IS expected if you are initializing RobertaForSequenceClassification from the checkpoint of a model trained on another task or with another architecture (e.g. initializing a BertForSequenceClassification model from a BertForPreTraining model).\n",
            "- This IS NOT expected if you are initializing RobertaForSequenceClassification from the checkpoint of a model that you expect to be exactly identical (initializing a BertForSequenceClassification model from a BertForSequenceClassification model).\n",
            "Some weights of RobertaForSequenceClassification were not initialized from the model checkpoint at microsoft/unixcoder-base-nine and are newly initialized: ['classifier.out_proj.bias', 'classifier.dense.weight', 'classifier.dense.bias', 'classifier.out_proj.weight']\n",
            "You should probably TRAIN this model on a down-stream task to be able to use it for predictions and inference.\n"
          ]
        }
      ]
    },
    {
      "cell_type": "code",
      "source": [
        "from sklearn.model_selection import KFold\n",
        "from sklearn.metrics import mean_absolute_error\n",
        "\n",
        "df = pd.read_csv(\"/content/drive/MyDrive/Dataset/MSR/Last.csv\")"
      ],
      "metadata": {
        "id": "7SwgKYcko3KQ"
      },
      "execution_count": 5,
      "outputs": []
    },
    {
      "cell_type": "code",
      "source": [
        "def preprocess(df,file_name):\n",
        "  #preprocess_df = df.replace(re.compile('(^import.*|^from.*)',re.MULTILINE),\"\",regex=True) #import,from 없애기\n",
        "  preprocess_df = df.replace(re.compile('(#.*)', re.MULTILINE),\"\",regex=True) #주석 한 줄\n",
        "  preprocess_df = preprocess_df.replace(re.compile('[\\'\\\"]{3}.*?[\\'\\\"]{3}', re.DOTALL),\"\",regex=True) #주석 여러줄\n",
        "  preprocess_df = preprocess_df.replace(re.compile('[\\n]{2,}', re.MULTILINE),\"\\n\",regex=True) #다중개행 한번으로\n",
        "  preprocess_df = preprocess_df.replace(re.compile('[ ]{4}', re.MULTILINE),\"\\t\",regex=True) #tab 변환\n",
        "  preprocess_df = preprocess_df.replace(re.compile('[ ]{1,3}', re.MULTILINE),\" \",regex=True) #공백 여러개 변환\n",
        "  preprocess_df.to_csv(file_name)\n",
        "\n",
        "def tokenized(examples):\n",
        "  return tokenizer_graphcodebert(examples['code'], padding=True, max_length=MAX_LEN,truncation=True, return_token_type_ids=True)"
      ],
      "metadata": {
        "id": "NTjD7Sk5sNBV"
      },
      "execution_count": 6,
      "outputs": []
    },
    {
      "cell_type": "code",
      "source": [
        "preprocess(df,\"preprocess.csv\")\n",
        "dataset = load_dataset(\"csv\",data_files=\"preprocess.csv\")['train']\n",
        "encoded_dataset = dataset.map(lambda x: tokenizer_graphcodebert(x['code'], padding='max_length', truncation=True, max_length=MAX_LEN), batched=True)"
      ],
      "metadata": {
        "colab": {
          "base_uri": "https://localhost:8080/",
          "height": 81,
          "referenced_widgets": [
            "7e7c0b1f4fd64d47b4418a6e7b1dc530",
            "ff9412f9306e4b919213e6f55848749a",
            "492b4b017dd04265bc078e9da30c2f80",
            "e6ee02d1c38b4afeb5f390071754b957",
            "072181cc74c64db9bbecc01dac87880c",
            "f05be24e252c452a83f69ca6778052d1",
            "6f81bd42aeec4ccd84b05b0ae740f2e5",
            "dec078ef400f41ae8e42cb13463f47d6",
            "bfaed9048361476585e6edba7d9cc632",
            "66ec2f6f98ae47cb9273c03841562098",
            "690247275a9041aaad4e12a64842f243",
            "7a71dee02de648cfb91ff5b792428171",
            "af05501a3a174dddb155eb0cc9deb626",
            "9457ce7106d54b269ddc30e7404f3f55",
            "00217b45f72e4479ba59afc26dc9249b",
            "796731efd99b4daeab8a9e88b76d149a",
            "330720ff23cd4713bfcb207d4ff663d0",
            "0134bebdbce541a0bdf62e4c39f459bf",
            "ac322ea6869c454f828f472c92b1c5a4",
            "7e6d8e31fec24e46a80006760ca88dab",
            "f42d4ea5926d4cdb889c10b043ebad40",
            "3a1f62f30b0549b69bd2c26337c3f4a9"
          ]
        },
        "id": "4krS5jWxr_CL",
        "outputId": "4ce82272-c049-41b9-8fff-4a9453cc1791"
      },
      "execution_count": 7,
      "outputs": [
        {
          "output_type": "display_data",
          "data": {
            "text/plain": [
              "Generating train split: 0 examples [00:00, ? examples/s]"
            ],
            "application/vnd.jupyter.widget-view+json": {
              "version_major": 2,
              "version_minor": 0,
              "model_id": "7e7c0b1f4fd64d47b4418a6e7b1dc530"
            }
          },
          "metadata": {}
        },
        {
          "output_type": "display_data",
          "data": {
            "text/plain": [
              "Map:   0%|          | 0/18616 [00:00<?, ? examples/s]"
            ],
            "application/vnd.jupyter.widget-view+json": {
              "version_major": 2,
              "version_minor": 0,
              "model_id": "7a71dee02de648cfb91ff5b792428171"
            }
          },
          "metadata": {}
        }
      ]
    },
    {
      "cell_type": "code",
      "source": [
        "encoded_dataset = encoded_dataset.train_test_split(0.3,seed=100)"
      ],
      "metadata": {
        "id": "GAiRgJwDsTaA"
      },
      "execution_count": 8,
      "outputs": []
    },
    {
      "cell_type": "code",
      "source": [
        "X_train = np.array(encoded_dataset['train']['input_ids'])\n",
        "y_train = np.array(encoded_dataset['train']['labels'])\n",
        "X_test = np.array(encoded_dataset['test']['input_ids'])\n",
        "y_test = np.array(encoded_dataset['test']['labels'])"
      ],
      "metadata": {
        "id": "xk7ADxxLuEOq"
      },
      "execution_count": 9,
      "outputs": []
    },
    {
      "cell_type": "code",
      "source": [
        "# CV 기반 스태킹 학습을 위한 함수 정의\n",
        "def get_stacking_base_predictions(model, X_train_n, y_train_n, X_test_n, n_folds):\n",
        "    skf = StratifiedKFold(n_splits=n_folds, shuffle=True, random_state=42)\n",
        "    train_fold_pred = np.zeros((len(X_train_n), model.config.num_labels))\n",
        "    test_pred = np.zeros((len(X_test_n), n_folds, model.config.num_labels))\n",
        "\n",
        "    for fold, (train_idx, val_idx) in enumerate(skf.split(X_train_n, y_train_n)):\n",
        "        X_train_fold, X_val_fold = X_train_n[train_idx], X_train_n[val_idx]\n",
        "        y_train_fold, y_val_fold = y_train_n[train_idx], y_train_n[val_idx]\n",
        "\n",
        "        train_inputs = torch.tensor(X_train_fold)\n",
        "        train_labels = torch.tensor(y_train_fold)\n",
        "        val_inputs = torch.tensor(X_val_fold)\n",
        "        val_labels = torch.tensor(y_val_fold)\n",
        "        test_inputs = torch.tensor(X_test_n)\n",
        "\n",
        "        train_data = TensorDataset(train_inputs, train_labels)\n",
        "        val_data = TensorDataset(val_inputs, val_labels)\n",
        "        test_data = TensorDataset(test_inputs)\n",
        "\n",
        "        train_loader = DataLoader(train_data, batch_size=16, shuffle=True)\n",
        "        val_loader = DataLoader(val_data, batch_size=16, shuffle=False)\n",
        "        test_loader = DataLoader(test_data, batch_size=16, shuffle=False)\n",
        "\n",
        "        optimizer = optim.AdamW(model.parameters(), lr=2e-5)\n",
        "        criterion = nn.CrossEntropyLoss()\n",
        "        device = torch.device(\"cuda\" if torch.cuda.is_available() else \"cpu\")\n",
        "        model.to(device)\n",
        "\n",
        "        for epoch in range(3):  # 예시로 3 에폭만 학습\n",
        "            train_loss, train_f1, val_f1 = train_model(model, train_loader, val_loader, optimizer, criterion, device)\n",
        "\n",
        "        model.eval()\n",
        "        with torch.no_grad():\n",
        "            for i, data in enumerate(test_loader):\n",
        "                inputs = data[0].to(device)\n",
        "                outputs = model(inputs)[0]\n",
        "                test_pred[i * 16:(i + 1) * 16, fold, :] = outputs.cpu().numpy()\n",
        "\n",
        "    return train_fold_pred, test_pred.mean(axis=1)"
      ],
      "metadata": {
        "id": "uPJaTsDMsVsX"
      },
      "execution_count": 10,
      "outputs": []
    },
    {
      "cell_type": "code",
      "source": [
        "from sklearn.metrics import f1_score\n",
        "from tqdm import tqdm\n",
        "\n",
        "import torch\n",
        "from sklearn.metrics import f1_score, accuracy_score\n",
        "from tqdm import tqdm\n",
        "\n",
        "def train_model(model, train_loader, val_loader, optimizer, criterion, device):\n",
        "    model.train()\n",
        "    running_loss = 0.0\n",
        "    train_predictions = []\n",
        "    train_targets = []\n",
        "\n",
        "    for inputs, labels in tqdm(train_loader, desc=\"Training\", leave=False):\n",
        "        inputs, labels = inputs.to(device), labels.to(device)\n",
        "        optimizer.zero_grad()\n",
        "        outputs = model(inputs)[0]\n",
        "        loss = criterion(outputs, labels)\n",
        "        loss.backward()\n",
        "        optimizer.step()\n",
        "        running_loss += loss.item() * inputs.size(0)\n",
        "\n",
        "        predictions = outputs.argmax(dim=1)\n",
        "        train_predictions.extend(predictions.tolist())\n",
        "        train_targets.extend(labels.tolist())\n",
        "\n",
        "    # 각 클래스별 F1 점수 계산\n",
        "    train_f1 = f1_score(train_targets, train_predictions, average=None)\n",
        "    formatted_train_f1 = \", \".join(f\"{score:.4f}\" for score in train_f1)\n",
        "\n",
        "    val_predictions = []\n",
        "    val_targets = []\n",
        "\n",
        "    for inputs, labels in tqdm(val_loader, desc=\"Validation\", leave=False):\n",
        "        inputs, labels = inputs.to(device), labels.to(device)\n",
        "        outputs = model(inputs)[0]\n",
        "        predictions = outputs.argmax(dim=1)\n",
        "        val_predictions.extend(predictions.tolist())\n",
        "        val_targets.extend(labels.tolist())\n",
        "\n",
        "    val_f1 = f1_score(val_targets, val_predictions, average=None)\n",
        "    formatted_val_f1 = \", \".join(f\"{score:.4f}\" for score in val_f1)\n",
        "\n",
        "    # 각 클래스별 F1 점수를 포맷하여 출력\n",
        "    print(f\"Train Loss: {running_loss / len(train_loader.dataset):.4f}, Train F1 by Class: [{formatted_train_f1}], Val F1 by Class: [{formatted_val_f1}]\")\n",
        "\n",
        "    return running_loss / len(train_loader.dataset), train_f1, val_f1\n"
      ],
      "metadata": {
        "id": "4GbBPY_uxDzy"
      },
      "execution_count": 15,
      "outputs": []
    },
    {
      "cell_type": "code",
      "source": [
        "codebert_train_pred, codebert_test_pred = get_stacking_base_predictions(model_codebert, X_train, y_train, X_test, n_folds=3)\n",
        "codebert_mlm_train_pred, codebert_mlm_test_pred = get_stacking_base_predictions(model_codebert_mlm, X_train, y_train, X_test, n_folds=3)\n",
        "graphcodebert_train_pred, graphcodebert_test_pred = get_stacking_base_predictions(model_graphcodebert, X_train, y_train, X_test, n_folds=3)"
      ],
      "metadata": {
        "colab": {
          "base_uri": "https://localhost:8080/"
        },
        "id": "VY-8ml3Tr-bA",
        "outputId": "7eba563d-16e9-4393-8321-64e0f8aab745"
      },
      "execution_count": 16,
      "outputs": [
        {
          "output_type": "stream",
          "name": "stderr",
          "text": []
        },
        {
          "output_type": "stream",
          "name": "stdout",
          "text": [
            "Train Loss: 0.7279, Train F1 by Class: [0.8749, 0.5660, 0.4079, 0.9337, 0.8757, 0.8617, 0.5352, 0.9213, 0.8626, 0.2408, 0.7493], Val F1 by Class: [0.9072, 0.5965, 0.4477, 0.9533, 0.8791, 0.8954, 0.5401, 0.9489, 0.8747, 0.3451, 0.7477]\n"
          ]
        },
        {
          "output_type": "stream",
          "name": "stderr",
          "text": []
        },
        {
          "output_type": "stream",
          "name": "stdout",
          "text": [
            "Train Loss: 0.5656, Train F1 by Class: [0.9304, 0.6679, 0.5476, 0.9527, 0.8800, 0.8690, 0.6806, 0.9364, 0.8931, 0.4990, 0.7561], Val F1 by Class: [0.9256, 0.5865, 0.5411, 0.9509, 0.8752, 0.8956, 0.6430, 0.9573, 0.8947, 0.5135, 0.7636]\n"
          ]
        },
        {
          "output_type": "stream",
          "name": "stderr",
          "text": []
        },
        {
          "output_type": "stream",
          "name": "stdout",
          "text": [
            "Train Loss: 0.4108, Train F1 by Class: [0.9636, 0.7635, 0.7105, 0.9455, 0.8936, 0.8848, 0.7875, 0.9494, 0.9125, 0.6771, 0.8006], Val F1 by Class: [0.9379, 0.6798, 0.6148, 0.9474, 0.8808, 0.9052, 0.7060, 0.9639, 0.9062, 0.5814, 0.7153]\n"
          ]
        },
        {
          "output_type": "stream",
          "name": "stderr",
          "text": []
        },
        {
          "output_type": "stream",
          "name": "stdout",
          "text": [
            "Train Loss: 0.4136, Train F1 by Class: [0.9602, 0.7703, 0.7287, 0.9467, 0.8847, 0.8857, 0.7957, 0.9540, 0.9220, 0.6971, 0.8076], Val F1 by Class: [0.9734, 0.8256, 0.8253, 0.9633, 0.9099, 0.8803, 0.8761, 0.9405, 0.9410, 0.7610, 0.8548]\n"
          ]
        },
        {
          "output_type": "stream",
          "name": "stderr",
          "text": []
        },
        {
          "output_type": "stream",
          "name": "stdout",
          "text": [
            "Train Loss: 0.2959, Train F1 by Class: [0.9723, 0.8521, 0.8309, 0.9462, 0.8855, 0.8869, 0.8611, 0.9606, 0.9253, 0.8043, 0.8642], Val F1 by Class: [0.9768, 0.8120, 0.8053, 0.9591, 0.8997, 0.8838, 0.8624, 0.9521, 0.9368, 0.7918, 0.8821]\n"
          ]
        },
        {
          "output_type": "stream",
          "name": "stderr",
          "text": []
        },
        {
          "output_type": "stream",
          "name": "stdout",
          "text": [
            "Train Loss: 0.2205, Train F1 by Class: [0.9793, 0.8815, 0.8901, 0.9458, 0.8823, 0.8826, 0.9026, 0.9634, 0.9549, 0.8738, 0.8972], Val F1 by Class: [0.9676, 0.8246, 0.7894, 0.9600, 0.9055, 0.8919, 0.8392, 0.9481, 0.9344, 0.7680, 0.8564]\n"
          ]
        },
        {
          "output_type": "stream",
          "name": "stderr",
          "text": []
        },
        {
          "output_type": "stream",
          "name": "stdout",
          "text": [
            "Train Loss: 0.2457, Train F1 by Class: [0.9750, 0.8671, 0.8475, 0.9568, 0.8968, 0.8924, 0.8775, 0.9639, 0.9488, 0.8427, 0.8925], Val F1 by Class: [0.9929, 0.9360, 0.9330, 0.9432, 0.8711, 0.8759, 0.9562, 0.9685, 0.9828, 0.9098, 0.9398]\n"
          ]
        },
        {
          "output_type": "stream",
          "name": "stderr",
          "text": []
        },
        {
          "output_type": "stream",
          "name": "stdout",
          "text": [
            "Train Loss: 0.1737, Train F1 by Class: [0.9831, 0.9094, 0.9187, 0.9591, 0.8999, 0.8998, 0.9294, 0.9667, 0.9703, 0.8953, 0.9328], Val F1 by Class: [0.9930, 0.8146, 0.8929, 0.9457, 0.9074, 0.8832, 0.9130, 0.9698, 0.9533, 0.9171, 0.9091]\n"
          ]
        },
        {
          "output_type": "stream",
          "name": "stderr",
          "text": []
        },
        {
          "output_type": "stream",
          "name": "stdout",
          "text": [
            "Train Loss: 0.1398, Train F1 by Class: [0.9828, 0.9408, 0.9444, 0.9580, 0.9004, 0.8999, 0.9440, 0.9705, 0.9753, 0.9408, 0.9642], Val F1 by Class: [0.9894, 0.9275, 0.9127, 0.9436, 0.8824, 0.8731, 0.9208, 0.9583, 0.9693, 0.9386, 0.9333]\n"
          ]
        },
        {
          "output_type": "stream",
          "name": "stderr",
          "text": []
        },
        {
          "output_type": "stream",
          "name": "stdout",
          "text": [
            "Train Loss: 1.2883, Train F1 by Class: [0.6292, 0.4124, 0.2847, 0.7821, 0.6128, 0.6422, 0.3333, 0.6920, 0.6363, 0.0115, 0.5426], Val F1 by Class: [0.8700, 0.5207, 0.4402, 0.9533, 0.8857, 0.8613, 0.5150, 0.9309, 0.7574, 0.1419, 0.7217]\n"
          ]
        },
        {
          "output_type": "stream",
          "name": "stderr",
          "text": []
        },
        {
          "output_type": "stream",
          "name": "stdout",
          "text": [
            "Train Loss: 0.6788, Train F1 by Class: [0.9109, 0.5572, 0.4441, 0.9519, 0.8924, 0.8726, 0.5809, 0.9343, 0.8609, 0.2972, 0.7683], Val F1 by Class: [0.9370, 0.6358, 0.5236, 0.9533, 0.8953, 0.9082, 0.6262, 0.9679, 0.8889, 0.4638, 0.7485]\n"
          ]
        },
        {
          "output_type": "stream",
          "name": "stderr",
          "text": []
        },
        {
          "output_type": "stream",
          "name": "stdout",
          "text": [
            "Train Loss: 0.5003, Train F1 by Class: [0.9522, 0.7077, 0.6079, 0.9494, 0.8951, 0.8783, 0.7342, 0.9500, 0.9112, 0.5525, 0.7775], Val F1 by Class: [0.9393, 0.5783, 0.6011, 0.9545, 0.8929, 0.9047, 0.6861, 0.9695, 0.8939, 0.5385, 0.7376]\n"
          ]
        },
        {
          "output_type": "stream",
          "name": "stderr",
          "text": []
        },
        {
          "output_type": "stream",
          "name": "stdout",
          "text": [
            "Train Loss: 0.4346, Train F1 by Class: [0.9605, 0.7302, 0.7032, 0.9517, 0.8876, 0.8913, 0.7852, 0.9610, 0.9119, 0.6600, 0.7968], Val F1 by Class: [0.9715, 0.7762, 0.7819, 0.9635, 0.9098, 0.9007, 0.8389, 0.9605, 0.9516, 0.6404, 0.8649]\n"
          ]
        },
        {
          "output_type": "stream",
          "name": "stderr",
          "text": []
        },
        {
          "output_type": "stream",
          "name": "stdout",
          "text": [
            "Train Loss: 0.3016, Train F1 by Class: [0.9771, 0.8301, 0.8088, 0.9471, 0.8986, 0.8936, 0.8674, 0.9646, 0.9351, 0.7844, 0.8675], Val F1 by Class: [0.9769, 0.7702, 0.7644, 0.9519, 0.8937, 0.8866, 0.8537, 0.9565, 0.9419, 0.7208, 0.8314]\n"
          ]
        },
        {
          "output_type": "stream",
          "name": "stderr",
          "text": []
        },
        {
          "output_type": "stream",
          "name": "stdout",
          "text": [
            "Train Loss: 0.2112, Train F1 by Class: [0.9824, 0.8870, 0.8794, 0.9449, 0.8985, 0.8991, 0.9156, 0.9719, 0.9549, 0.8730, 0.9178], Val F1 by Class: [0.9722, 0.8126, 0.7981, 0.9636, 0.8994, 0.8895, 0.8329, 0.9531, 0.9555, 0.7821, 0.8608]\n"
          ]
        },
        {
          "output_type": "stream",
          "name": "stderr",
          "text": []
        },
        {
          "output_type": "stream",
          "name": "stdout",
          "text": [
            "Train Loss: 0.2632, Train F1 by Class: [0.9757, 0.8460, 0.8595, 0.9562, 0.9048, 0.9000, 0.8727, 0.9638, 0.9549, 0.8199, 0.8827], Val F1 by Class: [0.9916, 0.9405, 0.9471, 0.9481, 0.8944, 0.8946, 0.9634, 0.9730, 0.9848, 0.9412, 0.9750]\n"
          ]
        },
        {
          "output_type": "stream",
          "name": "stderr",
          "text": []
        },
        {
          "output_type": "stream",
          "name": "stdout",
          "text": [
            "Train Loss: 0.1684, Train F1 by Class: [0.9817, 0.9124, 0.9241, 0.9598, 0.8988, 0.9024, 0.9299, 0.9663, 0.9790, 0.9042, 0.9377], Val F1 by Class: [0.9951, 0.9456, 0.9336, 0.9469, 0.9049, 0.8895, 0.9537, 0.9666, 0.9690, 0.9201, 0.9188]\n"
          ]
        },
        {
          "output_type": "stream",
          "name": "stderr",
          "text": []
        },
        {
          "output_type": "stream",
          "name": "stdout",
          "text": [
            "Train Loss: 0.1240, Train F1 by Class: [0.9838, 0.9456, 0.9574, 0.9598, 0.9102, 0.9110, 0.9568, 0.9704, 0.9809, 0.9389, 0.9681], Val F1 by Class: [0.9908, 0.9136, 0.8915, 0.9481, 0.9046, 0.8910, 0.9532, 0.9667, 0.9732, 0.8871, 0.9479]\n"
          ]
        },
        {
          "output_type": "stream",
          "name": "stderr",
          "text": []
        },
        {
          "output_type": "stream",
          "name": "stdout",
          "text": [
            "Train Loss: 1.2980, Train F1 by Class: [0.6639, 0.3906, 0.3120, 0.8454, 0.5773, 0.5341, 0.3905, 0.6789, 0.5072, 0.0076, 0.4398], Val F1 by Class: [0.8756, 0.5597, 0.4388, 0.9347, 0.8900, 0.9061, 0.4552, 0.9524, 0.7745, 0.0588, 0.7462]\n"
          ]
        },
        {
          "output_type": "stream",
          "name": "stderr",
          "text": []
        },
        {
          "output_type": "stream",
          "name": "stdout",
          "text": [
            "Train Loss: 0.6733, Train F1 by Class: [0.9064, 0.5871, 0.4478, 0.9491, 0.8962, 0.8836, 0.5947, 0.9342, 0.8745, 0.2331, 0.7692], Val F1 by Class: [0.9245, 0.6126, 0.5182, 0.9522, 0.8830, 0.9095, 0.6477, 0.9607, 0.8988, 0.4719, 0.7335]\n"
          ]
        },
        {
          "output_type": "stream",
          "name": "stderr",
          "text": []
        },
        {
          "output_type": "stream",
          "name": "stdout",
          "text": [
            "Train Loss: 0.4976, Train F1 by Class: [0.9550, 0.6957, 0.5866, 0.9464, 0.9003, 0.8827, 0.7489, 0.9527, 0.9098, 0.5491, 0.7889], Val F1 by Class: [0.9437, 0.6672, 0.5984, 0.9548, 0.8892, 0.9001, 0.6553, 0.9551, 0.9061, 0.5534, 0.7596]\n"
          ]
        },
        {
          "output_type": "stream",
          "name": "stderr",
          "text": []
        },
        {
          "output_type": "stream",
          "name": "stdout",
          "text": [
            "Train Loss: 0.4514, Train F1 by Class: [0.9612, 0.7201, 0.6582, 0.9460, 0.8888, 0.8968, 0.7624, 0.9572, 0.9123, 0.6362, 0.7973], Val F1 by Class: [0.9742, 0.7419, 0.7027, 0.9611, 0.9182, 0.9032, 0.8364, 0.9633, 0.9234, 0.6334, 0.8264]\n"
          ]
        },
        {
          "output_type": "stream",
          "name": "stderr",
          "text": []
        },
        {
          "output_type": "stream",
          "name": "stdout",
          "text": [
            "Train Loss: 0.3025, Train F1 by Class: [0.9793, 0.8249, 0.7910, 0.9472, 0.9067, 0.9140, 0.8748, 0.9676, 0.9332, 0.7695, 0.8688], Val F1 by Class: [0.9661, 0.7798, 0.7294, 0.9599, 0.9195, 0.8928, 0.7781, 0.9540, 0.9386, 0.7064, 0.8310]\n"
          ]
        },
        {
          "output_type": "stream",
          "name": "stderr",
          "text": []
        },
        {
          "output_type": "stream",
          "name": "stdout",
          "text": [
            "Train Loss: 0.2119, Train F1 by Class: [0.9853, 0.8833, 0.8749, 0.9447, 0.8968, 0.8985, 0.9176, 0.9670, 0.9546, 0.8719, 0.9178], Val F1 by Class: [0.9735, 0.7738, 0.7553, 0.9576, 0.9133, 0.8907, 0.8070, 0.9446, 0.9077, 0.7028, 0.8366]\n"
          ]
        },
        {
          "output_type": "stream",
          "name": "stderr",
          "text": []
        },
        {
          "output_type": "stream",
          "name": "stdout",
          "text": [
            "Train Loss: 0.2573, Train F1 by Class: [0.9765, 0.8506, 0.8389, 0.9587, 0.8998, 0.9040, 0.8683, 0.9625, 0.9549, 0.8268, 0.8863], Val F1 by Class: [0.9923, 0.9510, 0.9327, 0.9481, 0.8915, 0.8945, 0.9603, 0.9652, 0.9709, 0.9447, 0.9559]\n"
          ]
        },
        {
          "output_type": "stream",
          "name": "stderr",
          "text": []
        },
        {
          "output_type": "stream",
          "name": "stdout",
          "text": [
            "Train Loss: 0.1686, Train F1 by Class: [0.9845, 0.9167, 0.9155, 0.9642, 0.9111, 0.9105, 0.9251, 0.9675, 0.9693, 0.8979, 0.9401], Val F1 by Class: [0.9806, 0.9305, 0.9305, 0.9498, 0.8785, 0.8736, 0.9470, 0.9636, 0.9605, 0.9274, 0.9409]\n"
          ]
        },
        {
          "output_type": "stream",
          "name": "stderr",
          "text": []
        },
        {
          "output_type": "stream",
          "name": "stdout",
          "text": [
            "Train Loss: 0.1199, Train F1 by Class: [0.9856, 0.9530, 0.9551, 0.9596, 0.9068, 0.9051, 0.9587, 0.9762, 0.9800, 0.9442, 0.9692], Val F1 by Class: [0.9916, 0.9245, 0.8925, 0.9444, 0.9024, 0.8906, 0.9358, 0.9695, 0.9710, 0.9054, 0.9125]\n"
          ]
        }
      ]
    },
    {
      "cell_type": "code",
      "source": [
        "# 개별 모델의 예측을 합쳐서 메타 피처로 사용\n",
        "stacked_train_features = np.hstack((codebert_train_pred, codebert_mlm_train_pred, graphcodebert_train_pred))\n",
        "stacked_test_features = np.hstack((codebert_test_pred, codebert_mlm_test_pred, graphcodebert_test_pred))"
      ],
      "metadata": {
        "id": "G5OosHxzujVM"
      },
      "execution_count": 17,
      "outputs": []
    },
    {
      "cell_type": "code",
      "source": [
        "stacked_train_features"
      ],
      "metadata": {
        "colab": {
          "base_uri": "https://localhost:8080/"
        },
        "id": "ooajieMdxSfv",
        "outputId": "853116e1-5c66-45ff-bd3e-5f8da55a73ea"
      },
      "execution_count": 22,
      "outputs": [
        {
          "output_type": "execute_result",
          "data": {
            "text/plain": [
              "array([[0., 0., 0., ..., 0., 0., 0.],\n",
              "       [0., 0., 0., ..., 0., 0., 0.],\n",
              "       [0., 0., 0., ..., 0., 0., 0.],\n",
              "       ...,\n",
              "       [0., 0., 0., ..., 0., 0., 0.],\n",
              "       [0., 0., 0., ..., 0., 0., 0.],\n",
              "       [0., 0., 0., ..., 0., 0., 0.]])"
            ]
          },
          "metadata": {},
          "execution_count": 22
        }
      ]
    },
    {
      "cell_type": "code",
      "source": [
        "import numpy as np\n",
        "from sklearn.linear_model import LogisticRegression\n",
        "from sklearn.model_selection import train_test_split\n",
        "from sklearn.datasets import make_classification\n",
        "from sklearn.metrics import accuracy_score, classification_report\n",
        "from sklearn.metrics import precision_score, recall_score, f1_score, accuracy_score\n",
        "\n",
        "# 메타 모델로 사용할 Unixcoder 모델 정의\n",
        "meta_model = LogisticRegression(multi_class='multinomial', solver='lbfgs', random_state=42)\n",
        "\n",
        "# 메타 모델 학습\n",
        "meta_model.fit(stacked_train_features, y_train)\n",
        "\n",
        "# 메타 모델 예측\n",
        "meta_pred = meta_model.predict(stacked_test_features)\n",
        "\n",
        "# 정확도 평가\n",
        "accuracy = accuracy_score(y_test, meta_pred)\n",
        "print(f\"Accuracy of meta model: {accuracy:.2f}\")\n",
        "\n",
        "# 클래스 별 평가\n",
        "report = classification_report(y_test, meta_pred, target_names=['Class 0', 'Class 1', 'Class 2', 'Class 3', 'Class 4', 'Class 5', 'Class 6', 'Class 7', 'Class 8', 'Class 9', 'Class 10'])\n",
        "print(report)"
      ],
      "metadata": {
        "id": "S7ej1X0Runc1",
        "colab": {
          "base_uri": "https://localhost:8080/"
        },
        "outputId": "25b15ce4-0267-40c2-9cf8-a1c9587f5c04"
      },
      "execution_count": 26,
      "outputs": [
        {
          "output_type": "stream",
          "name": "stdout",
          "text": [
            "Accuracy of meta model: 0.15\n",
            "              precision    recall  f1-score   support\n",
            "\n",
            "     Class 0       0.15      1.00      0.27       865\n",
            "     Class 1       0.00      0.00      0.00       628\n",
            "     Class 2       0.00      0.00      0.00       647\n",
            "     Class 3       0.00      0.00      0.00       554\n",
            "     Class 4       0.00      0.00      0.00       496\n",
            "     Class 5       0.00      0.00      0.00       508\n",
            "     Class 6       0.00      0.00      0.00       507\n",
            "     Class 7       0.00      0.00      0.00       509\n",
            "     Class 8       0.00      0.00      0.00       329\n",
            "     Class 9       0.00      0.00      0.00       303\n",
            "    Class 10       0.00      0.00      0.00       239\n",
            "\n",
            "    accuracy                           0.15      5585\n",
            "   macro avg       0.01      0.09      0.02      5585\n",
            "weighted avg       0.02      0.15      0.04      5585\n",
            "\n"
          ]
        },
        {
          "output_type": "stream",
          "name": "stderr",
          "text": [
            "/usr/local/lib/python3.10/dist-packages/sklearn/metrics/_classification.py:1344: UndefinedMetricWarning: Precision and F-score are ill-defined and being set to 0.0 in labels with no predicted samples. Use `zero_division` parameter to control this behavior.\n",
            "  _warn_prf(average, modifier, msg_start, len(result))\n",
            "/usr/local/lib/python3.10/dist-packages/sklearn/metrics/_classification.py:1344: UndefinedMetricWarning: Precision and F-score are ill-defined and being set to 0.0 in labels with no predicted samples. Use `zero_division` parameter to control this behavior.\n",
            "  _warn_prf(average, modifier, msg_start, len(result))\n",
            "/usr/local/lib/python3.10/dist-packages/sklearn/metrics/_classification.py:1344: UndefinedMetricWarning: Precision and F-score are ill-defined and being set to 0.0 in labels with no predicted samples. Use `zero_division` parameter to control this behavior.\n",
            "  _warn_prf(average, modifier, msg_start, len(result))\n"
          ]
        }
      ]
    },
    {
      "cell_type": "code",
      "source": [],
      "metadata": {
        "id": "JW50pm81QMh_"
      },
      "execution_count": null,
      "outputs": []
    }
  ]
}