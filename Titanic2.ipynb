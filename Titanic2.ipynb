{
  "nbformat": 4,
  "nbformat_minor": 0,
  "metadata": {
    "colab": {
      "provenance": [],
      "mount_file_id": "1z6EaYI3Dq0mXC8BnbESaWITDJ6DLj2Yt",
      "authorship_tag": "ABX9TyNGFPpUvUKQY612zmYe1Ump",
      "include_colab_link": true
    },
    "kernelspec": {
      "name": "python3",
      "display_name": "Python 3"
    },
    "language_info": {
      "name": "python"
    }
  },
  "cells": [
    {
      "cell_type": "markdown",
      "metadata": {
        "id": "view-in-github",
        "colab_type": "text"
      },
      "source": [
        "<a href=\"https://colab.research.google.com/github/rlaaudrb1104/Ai/blob/KMG/Titanic2.ipynb\" target=\"_parent\"><img src=\"https://colab.research.google.com/assets/colab-badge.svg\" alt=\"Open In Colab\"/></a>"
      ]
    },
    {
      "cell_type": "code",
      "execution_count": 20,
      "metadata": {
        "id": "Noj6qF6_Bn6O"
      },
      "outputs": [],
      "source": [
        "import pandas as pd\n",
        "\n",
        "train = pd.read_csv('/content/drive/MyDrive/Colab Notebooks/train.csv')\n",
        "test = pd.read_csv('/content/drive/MyDrive/Colab Notebooks/test.csv')\n",
        "submission = pd.read_csv('/content/drive/MyDrive/Colab Notebooks/submission.csv')"
      ]
    },
    {
      "cell_type": "code",
      "source": [
        "columns = ['Pclass', 'Sex', 'Age', 'SibSp', 'Parch', 'Fare', 'Embarked']\n",
        "train = train[columns+['Survived']]\n",
        "test = test[columns]\n",
        "\n",
        "mean_age = train['Age'].mean()\n",
        "mean_fare = train['Fare'].mean()\n",
        "\n",
        "train['Age'] = train['Age'].fillna(mean_age)\n",
        "test['Age'] = test['Age'].fillna(mean_age)\n",
        "\n",
        "train['Fare'] = train['Fare'].fillna(mean_fare)\n",
        "test['Fare'] = train ['Fare'].fillna(mean_fare)\n",
        "\n",
        "train = train[train['Parch'] <= 5]\n",
        "train = train[train['Fare'] <= 300]\n",
        "\n",
        "train['Sex'] = train['Sex'].apply(lambda x : 0 if x == 'female' else 1)\n",
        "test['Sex'] = train['Sex'].apply(lambda x : 0 if x == 'female' else 1)\n",
        "\n",
        "train = pd.get_dummies(train, columns = ['Embarked'], drop_first = True)\n",
        "test = pd.get_dummies(test, columns = ['Embarked'], drop_first = True)\n",
        "\n",
        "train_x = train.drop(columns = ['Survived'])\n",
        "train_y = train['Survived']\n",
        "\n",
        "from sklearn.model_selection import train_test_split\n",
        "\n",
        "train_x, val_x, train_y, val_y = train_test_split(train_x, train_y, test_size = 0.2, random_state=0)\n",
        "\n",
        "from imblearn.over_sampling import SMOTE\n",
        "\n",
        "smote = SMOTE(random_state = 0)\n",
        "\n",
        "X_resampled, y_resampled = smote.fit_resample(train_x, list(train_y))\n",
        "\n",
        "X_resampled['Survived'] = y_resampled\n",
        "train_dataset = X_resampled"
      ],
      "metadata": {
        "colab": {
          "base_uri": "https://localhost:8080/"
        },
        "id": "mm8lPKnKB94C",
        "outputId": "33e49722-ba91-4882-82e8-9d448c5d3563"
      },
      "execution_count": 21,
      "outputs": [
        {
          "output_type": "stream",
          "name": "stderr",
          "text": [
            "<ipython-input-21-ed0969593e0c>:8: SettingWithCopyWarning: \n",
            "A value is trying to be set on a copy of a slice from a DataFrame.\n",
            "Try using .loc[row_indexer,col_indexer] = value instead\n",
            "\n",
            "See the caveats in the documentation: https://pandas.pydata.org/pandas-docs/stable/user_guide/indexing.html#returning-a-view-versus-a-copy\n",
            "  train['Age'] = train['Age'].fillna(mean_age)\n",
            "<ipython-input-21-ed0969593e0c>:9: SettingWithCopyWarning: \n",
            "A value is trying to be set on a copy of a slice from a DataFrame.\n",
            "Try using .loc[row_indexer,col_indexer] = value instead\n",
            "\n",
            "See the caveats in the documentation: https://pandas.pydata.org/pandas-docs/stable/user_guide/indexing.html#returning-a-view-versus-a-copy\n",
            "  test['Age'] = test['Age'].fillna(mean_age)\n",
            "<ipython-input-21-ed0969593e0c>:11: SettingWithCopyWarning: \n",
            "A value is trying to be set on a copy of a slice from a DataFrame.\n",
            "Try using .loc[row_indexer,col_indexer] = value instead\n",
            "\n",
            "See the caveats in the documentation: https://pandas.pydata.org/pandas-docs/stable/user_guide/indexing.html#returning-a-view-versus-a-copy\n",
            "  train['Fare'] = train['Fare'].fillna(mean_fare)\n",
            "<ipython-input-21-ed0969593e0c>:12: SettingWithCopyWarning: \n",
            "A value is trying to be set on a copy of a slice from a DataFrame.\n",
            "Try using .loc[row_indexer,col_indexer] = value instead\n",
            "\n",
            "See the caveats in the documentation: https://pandas.pydata.org/pandas-docs/stable/user_guide/indexing.html#returning-a-view-versus-a-copy\n",
            "  test['Fare'] = train ['Fare'].fillna(mean_fare)\n",
            "<ipython-input-21-ed0969593e0c>:18: SettingWithCopyWarning: \n",
            "A value is trying to be set on a copy of a slice from a DataFrame.\n",
            "Try using .loc[row_indexer,col_indexer] = value instead\n",
            "\n",
            "See the caveats in the documentation: https://pandas.pydata.org/pandas-docs/stable/user_guide/indexing.html#returning-a-view-versus-a-copy\n",
            "  test['Sex'] = train['Sex'].apply(lambda x : 0 if x == 'female' else 1)\n"
          ]
        }
      ]
    },
    {
      "cell_type": "code",
      "source": [
        "# 로지스틱 회귀 모델\n",
        "import statsmodels.api as sm\n",
        "\n",
        "from sklearn.metrics import classification_report\n",
        "\n",
        "from sklearn.metrics import confusion_matrix\n",
        "\n",
        "formula = \"\"\"\n",
        "Survived ~ C(Pclass) + C(Sex) + scale(Age) + scale(SibSp) + scale(Parch) + scale(Fare) + C(Embarked_Q) + C(Embarked_S)\n",
        "\"\"\"\n",
        "\n",
        "model = sm.Logit.from_formula(formula, data=train_dataset)\n",
        "result = model.fit()\n",
        "y_pred = result.predict(val_x)\n",
        "y_pred = y_pred.apply(lambda x : 1 if x>=0.5 else 0)\n",
        "\n",
        "print(classification_report(val_y, y_pred))"
      ],
      "metadata": {
        "colab": {
          "base_uri": "https://localhost:8080/"
        },
        "id": "trynIlHYCQOb",
        "outputId": "eb42e839-e2de-4c1a-deb1-6a18b923bad5"
      },
      "execution_count": 22,
      "outputs": [
        {
          "output_type": "stream",
          "name": "stdout",
          "text": [
            "Optimization terminated successfully.\n",
            "         Current function value: 0.377463\n",
            "         Iterations 7\n",
            "              precision    recall  f1-score   support\n",
            "\n",
            "           0       0.74      0.79      0.76       103\n",
            "           1       0.68      0.61      0.64        75\n",
            "\n",
            "    accuracy                           0.71       178\n",
            "   macro avg       0.71      0.70      0.70       178\n",
            "weighted avg       0.71      0.71      0.71       178\n",
            "\n"
          ]
        }
      ]
    },
    {
      "cell_type": "code",
      "source": [
        "# 의사 결정 트리 모델\n",
        "from sklearn.tree import DecisionTreeClassifier\n",
        "model = DecisionTreeClassifier(max_depth=6, random_state=0)\n",
        "model.fit(train_dataset.drop(columns = 'Survived'), train_dataset['Survived'])\n",
        "y_pred = model.predict(val_x)\n",
        "print(confusion_matrix(val_y, y_pred))\n",
        "\n",
        "print(classification_report(val_y, y_pred))"
      ],
      "metadata": {
        "colab": {
          "base_uri": "https://localhost:8080/"
        },
        "id": "EmyRfHX7UPyA",
        "outputId": "a60a1b7d-1181-41ff-fc4e-7b366ab5fb35"
      },
      "execution_count": 26,
      "outputs": [
        {
          "output_type": "stream",
          "name": "stdout",
          "text": [
            "[[89 14]\n",
            " [29 46]]\n",
            "              precision    recall  f1-score   support\n",
            "\n",
            "           0       0.75      0.86      0.81       103\n",
            "           1       0.77      0.61      0.68        75\n",
            "\n",
            "    accuracy                           0.76       178\n",
            "   macro avg       0.76      0.74      0.74       178\n",
            "weighted avg       0.76      0.76      0.75       178\n",
            "\n"
          ]
        }
      ]
    },
    {
      "cell_type": "code",
      "source": [
        "# 랜덤 포레스트 모델\n",
        "from sklearn.ensemble import RandomForestClassifier\n",
        "\n",
        "model = RandomForestClassifier(n_estimators = 200, max_depth = 5, random_state = 0)\n",
        "model.fit(train.drop(columns = 'Survived'), train['Survived'])\n",
        "\n",
        "y_pred = model.predict(val_x)\n",
        "print(confusion_matrix(val_y, y_pred))\n",
        "print(classification_report(val_y, y_pred))"
      ],
      "metadata": {
        "colab": {
          "base_uri": "https://localhost:8080/"
        },
        "id": "xDSeMLljU5RN",
        "outputId": "8c916119-bf74-4d46-a2b5-6a67e032dec3"
      },
      "execution_count": 27,
      "outputs": [
        {
          "output_type": "stream",
          "name": "stdout",
          "text": [
            "[[96  7]\n",
            " [33 42]]\n",
            "              precision    recall  f1-score   support\n",
            "\n",
            "           0       0.74      0.93      0.83       103\n",
            "           1       0.86      0.56      0.68        75\n",
            "\n",
            "    accuracy                           0.78       178\n",
            "   macro avg       0.80      0.75      0.75       178\n",
            "weighted avg       0.79      0.78      0.76       178\n",
            "\n"
          ]
        }
      ]
    },
    {
      "cell_type": "code",
      "source": [
        "# XGBoost 모델\n",
        "from xgboost import XGBClassifier\n",
        "\n",
        "model = XGBClassifier(n_estimators = 200, learning_rate = 0.01, max_depth = 5, random_state = 0)\n",
        "\n",
        "model.fit(train.drop(columns = 'Survived'), train['Survived'])\n",
        "\n",
        "y_pred = model.predict(val_x)\n",
        "print(confusion_matrix(val_y, y_pred))\n",
        "print(classification_report(val_y, y_pred))"
      ],
      "metadata": {
        "colab": {
          "base_uri": "https://localhost:8080/"
        },
        "id": "CP8dhTtsWbc0",
        "outputId": "926491e3-3fc5-4d5f-f173-6973960a9003"
      },
      "execution_count": 28,
      "outputs": [
        {
          "output_type": "stream",
          "name": "stdout",
          "text": [
            "[[94  9]\n",
            " [26 49]]\n",
            "              precision    recall  f1-score   support\n",
            "\n",
            "           0       0.78      0.91      0.84       103\n",
            "           1       0.84      0.65      0.74        75\n",
            "\n",
            "    accuracy                           0.80       178\n",
            "   macro avg       0.81      0.78      0.79       178\n",
            "weighted avg       0.81      0.80      0.80       178\n",
            "\n"
          ]
        }
      ]
    },
    {
      "cell_type": "code",
      "source": [
        "# 모델 선택\n",
        "my_model = XGBClassifier(n_estimators=200, learning_rate=0.01, max_depth=5, random_state = 0)\n",
        "my_model.fit(train_dataset.drop(columns = 'Survived'), train_dataset['Survived'])\n",
        "\n",
        "XGB_pred = my_model.predict(test)"
      ],
      "metadata": {
        "id": "_NOmDIeyYnMw"
      },
      "execution_count": 30,
      "outputs": []
    }
  ]
}