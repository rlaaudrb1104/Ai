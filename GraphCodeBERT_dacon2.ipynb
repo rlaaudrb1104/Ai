{
  "nbformat": 4,
  "nbformat_minor": 0,
  "metadata": {
    "colab": {
      "provenance": [],
      "machine_shape": "hm",
      "gpuType": "L4",
      "mount_file_id": "1G3xXvCc5VOlHv7hca0YmWnhAGLJqx1ue",
      "authorship_tag": "ABX9TyPkvqzoOEAGBMP9f/O2q201",
      "include_colab_link": true
    },
    "kernelspec": {
      "name": "python3",
      "display_name": "Python 3"
    },
    "language_info": {
      "name": "python"
    },
    "accelerator": "GPU"
  },
  "cells": [
    {
      "cell_type": "markdown",
      "metadata": {
        "id": "view-in-github",
        "colab_type": "text"
      },
      "source": [
        "<a href=\"https://colab.research.google.com/github/rlaaudrb1104/Ai/blob/KMG/GraphCodeBERT_dacon2.ipynb\" target=\"_parent\"><img src=\"https://colab.research.google.com/assets/colab-badge.svg\" alt=\"Open In Colab\"/></a>"
      ]
    },
    {
      "cell_type": "code",
      "execution_count": 1,
      "metadata": {
        "id": "ONN9dEAs21ZR"
      },
      "outputs": [],
      "source": [
        "import pandas as pd\n",
        "import numpy as np\n",
        "import os\n",
        "import random\n",
        "from itertools import combinations, product\n",
        "import re\n",
        "import sklearn\n",
        "from sklearn.model_selection import train_test_split\n",
        "import torch\n",
        "torch.set_float32_matmul_precision('high')\n",
        "from torch.utils.data import Dataset, DataLoader\n",
        "import transformers\n",
        "from transformers import AutoTokenizer, AutoModelForSequenceClassification, AdamW\n",
        "from tqdm import tqdm\n",
        "import warnings\n",
        "warnings.filterwarnings('ignore')"
      ]
    },
    {
      "cell_type": "code",
      "source": [
        "# Seed 고정 함수\n",
        "def seed_everything(seed: int = 42, contain_cuda: bool = False):\n",
        "  os.environ['PYTHONHASHSEED'] = str(seed)\n",
        "  random.seed(seed)\n",
        "  np.random.seed(seed)\n",
        "\n",
        "  torch.backends.cudnn.deterministic = True\n",
        "  torch.backends.cudnn.benchmark = False\n",
        "\n",
        "  torch.manual_seed(seed)\n",
        "  torch.cuda.manual_seed(seed)\n",
        "  torch.cuda.manual_seed_all(seed)\n",
        "  print(f\"Seed set as {seed}\")\n",
        "\n",
        "seed = 42\n",
        "seed_everything(seed)"
      ],
      "metadata": {
        "colab": {
          "base_uri": "https://localhost:8080/"
        },
        "id": "U1KlcpND28XW",
        "outputId": "2cbe6692-0569-4f3c-a697-fe8f927ceb81"
      },
      "execution_count": 2,
      "outputs": [
        {
          "output_type": "stream",
          "name": "stdout",
          "text": [
            "Seed set as 42\n"
          ]
        }
      ]
    },
    {
      "cell_type": "code",
      "source": [
        "# CUDA 사용 가능 여부 확인 및 GPU 설정\n",
        "device = torch.device(\"cuda\" if torch.cuda.is_available() else \"cpu\")\n",
        "print(f\"Using device: {device}\")"
      ],
      "metadata": {
        "colab": {
          "base_uri": "https://localhost:8080/"
        },
        "id": "tM5H1jgA3WDB",
        "outputId": "a2d9b6cb-224d-4e6e-b139-1d0947058fb0"
      },
      "execution_count": 3,
      "outputs": [
        {
          "output_type": "stream",
          "name": "stdout",
          "text": [
            "Using device: cuda\n"
          ]
        }
      ]
    },
    {
      "cell_type": "code",
      "source": [
        "def preprocess_and_remove_extras(filepath):\n",
        "    with open(filepath, 'r', encoding='utf-8') as file:\n",
        "        content = file.read()\n",
        "\n",
        "    content = re.sub(re.compile(\"/\\*.*?\\*/\", re.DOTALL), \"\", content) # 멀티 라인 주석 제거\n",
        "    content = re.sub(re.compile(\"//.*?\\n\"), \"\", content) # 싱글 라인 주석 제거\n",
        "    content = re.sub(re.compile(\"#include <.*?>\\n\"), \"\", content) # angle brackets를 사용하는 include 제거\n",
        "    content = re.sub(re.compile(\"#include \\\".*?\\\"\\n\"), \"\", content) # double quotes를 사용하는 include 제거\n",
        "    content = re.sub(re.compile(\"#define .*?\\n\"), \"\", content) # 매크로 정의 제거\n",
        "    content = re.sub(re.compile(\"[\\t ]+\"), \" \", content) # 공백 및 탭 정리\n",
        "    content = re.sub(re.compile(\"\\n\\s*\\n\"), \"\\n\", content)# 여러 줄바꿈을 하나로\n",
        "\n",
        "    # 공백이 아닌 줄만 선택하여 리스트로 만든 후, 문자열로 결합\n",
        "    processed_script = '\\n'.join([line.strip() for line in content.splitlines() if line.strip()])\n",
        "\n",
        "    return processed_script"
      ],
      "metadata": {
        "id": "B0HcexlK3XzO"
      },
      "execution_count": 13,
      "outputs": []
    },
    {
      "cell_type": "code",
      "source": [
        "#  전처리 적용\n",
        "#  이미 create_train_data 만들 때 적용했지만, test.csv와, sample_train.csv에도 같은 전처리를 하기 위해 다시 정의\n",
        "def remove_extras(code):\n",
        "    code = re.sub(re.compile(\"/\\*.*?\\*/\", re.DOTALL), \"\", code) # 멀티 라인 주석 제거\n",
        "    code = re.sub(re.compile(\"//.*?\\n\"), \"\", code) # 싱글 라인 주석 제거\n",
        "    code = re.sub(re.compile(\"#include <.*?>\\n\"), \"\", code)  # angle brackets를 사용하는 include 제거\n",
        "    code = re.sub(re.compile(\"#include \\\".*?\\\"\\n\"), \"\", code)  # double quotes를 사용하는 include 제거\n",
        "    code = re.sub(re.compile(\"#define .*?\\n\"), \"\", code)  # 매크로 정의 제거\n",
        "    code = re.sub(re.compile(\"[\\t ]+\"), \" \", code)  # 탭과 여러 공백을 하나의 공백으로\n",
        "    code = re.sub(re.compile(\"\\n\\s*\\n\"), \"\\n\", code)  # 여러 줄바꿈을 하나로\n",
        "\n",
        "    return code.strip()"
      ],
      "metadata": {
        "id": "sfn02aIz8kEk"
      },
      "execution_count": 12,
      "outputs": []
    },
    {
      "cell_type": "code",
      "source": [
        "class CodeDataset(Dataset):\n",
        "    def __init__(self, tokenizer, data, max_length=512, include_labels=True):\n",
        "        self.tokenizer = tokenizer\n",
        "        self.data = data\n",
        "        self.max_length = max_length\n",
        "\n",
        "    def __len__(self):\n",
        "        return len(self.data)\n",
        "\n",
        "    def __getitem__(self, idx):\n",
        "        code = remove_extras(self.data.iloc[idx]['code'])  # 특정 인덱스의 코드를 가져와 추가 요소를 제거합니다.\n",
        "\n",
        "        inputs = self.tokenizer(\n",
        "            code,\n",
        "            padding='max_length', truncation=True, max_length=self.max_length, return_tensors=\"pt\"\n",
        "        )\n",
        "        inputs = {key: val.squeeze() for key, val in inputs.items()}\n",
        "\n",
        "        label = torch.tensor(self.data.iloc[idx]['labels'], dtype=torch.long)  # 해당 코드의 정답 라벨을 가져옵니다.\n",
        "        inputs['labels'] = label\n",
        "\n",
        "        return inputs"
      ],
      "metadata": {
        "id": "mGENEx386GMz"
      },
      "execution_count": 14,
      "outputs": []
    },
    {
      "cell_type": "code",
      "source": [
        "filepath_train = '/content/drive/MyDrive/Dataset/final/final_train5.csv'\n",
        "filepath_val = '/content/drive/MyDrive/Dataset/final/final_val2.csv'\n",
        "train_df = pd.read_csv(filepath_train)\n",
        "val_df = pd.read_csv(filepath_val)"
      ],
      "metadata": {
        "id": "snY1k_ZVAdG8"
      },
      "execution_count": 15,
      "outputs": []
    },
    {
      "cell_type": "code",
      "source": [
        "train_df = train_df.drop(columns=['Unnamed: 0'])\n",
        "val_df = val_df.drop(columns=['Unnamed: 0'])\n",
        "train_df = train_df.drop(columns=['vul'])\n",
        "val_df = val_df.drop(columns=['vul'])"
      ],
      "metadata": {
        "id": "w2_PN0wd1wj8"
      },
      "execution_count": 16,
      "outputs": []
    },
    {
      "cell_type": "code",
      "source": [
        "# GraphCodeBERT 모델 및 토크나이저 로드\n",
        "model_name = \"microsoft/graphcodebert-base\"\n",
        "tokenizer = AutoTokenizer.from_pretrained(model_name)\n",
        "tokenizer.truncation_side = \"left\"\n",
        "model = AutoModelForSequenceClassification.from_pretrained(model_name, num_labels=11).to(device)\n",
        "\n",
        "# 훈련 세트와 검증 세트에 대한 데이터셋 생성\n",
        "train_dataset = CodeDataset(tokenizer, train_df, max_length=512)\n",
        "val_dataset = CodeDataset(tokenizer, val_df, max_length=512, include_labels=True)\n",
        "\n",
        "# 데이터 로더 준비\n",
        "train_loader = DataLoader(train_dataset, batch_size=16, shuffle=True)\n",
        "val_loader = DataLoader(val_dataset, batch_size=16, shuffle=False)\n",
        "\n",
        "# 파인 튜닝을 위한 옵티마이저 설정\n",
        "optimizer = AdamW(model.parameters(), lr=2e-5)"
      ],
      "metadata": {
        "colab": {
          "base_uri": "https://localhost:8080/"
        },
        "id": "xxsZvbSe-uLk",
        "outputId": "c0aac12f-c3d7-4225-a5dd-8feb08a171d3"
      },
      "execution_count": 17,
      "outputs": [
        {
          "output_type": "stream",
          "name": "stderr",
          "text": [
            "Some weights of RobertaForSequenceClassification were not initialized from the model checkpoint at microsoft/graphcodebert-base and are newly initialized: ['classifier.dense.bias', 'classifier.dense.weight', 'classifier.out_proj.bias', 'classifier.out_proj.weight']\n",
            "You should probably TRAIN this model on a down-stream task to be able to use it for predictions and inference.\n"
          ]
        }
      ]
    },
    {
      "cell_type": "code",
      "source": [
        "import matplotlib.pyplot as plt\n",
        "from sklearn.metrics import f1_score, classification_report\n",
        "\n",
        "train_losses = []\n",
        "val_losses = []\n",
        "train_f1_scores = []\n",
        "val_f1_scores = []\n",
        "\n",
        "model.train()\n",
        "best_val_loss = float('inf')  # 최고 검증 손실값을 추적하기 위한 변수\n",
        "patience = 5  # 얼리스탑을 수행할 횟수\n",
        "early_stopping_counter = 0  # 얼리스탑을 위한 카운터\n",
        "\n",
        "for epoch in range(600):  # 예시로 3 에폭으로 설정\n",
        "    total_loss = 0\n",
        "    all_predictions_train = []\n",
        "    all_labels_train = []\n",
        "    model.train()\n",
        "    for batch in tqdm(train_loader):\n",
        "        batch = {k: v.to(device) for k, v in batch.items()}\n",
        "        outputs = model(**batch)\n",
        "        loss = outputs.loss\n",
        "        total_loss += loss.item()\n",
        "\n",
        "        logits = outputs.logits\n",
        "        predictions = torch.argmax(logits, dim=-1)\n",
        "        labels = batch[\"labels\"]\n",
        "\n",
        "        all_predictions_train.extend(predictions.cpu().numpy())\n",
        "        all_labels_train.extend(labels.cpu().numpy())\n",
        "\n",
        "        optimizer.zero_grad()\n",
        "        loss.backward()\n",
        "        optimizer.step()\n",
        "\n",
        "    # 에폭당 평균 훈련 손실 계산\n",
        "    epoch_loss = total_loss / len(train_loader)\n",
        "    train_losses.append(epoch_loss)\n",
        "\n",
        "    # train F1-score 계산\n",
        "    train_f1 = f1_score(all_labels_train, all_predictions_train, average='weighted')\n",
        "    train_f1_scores.append(train_f1)\n",
        "\n",
        "    # 검증 세트를 이용한 검증 손실 및 F1 점수 계산\n",
        "    model.eval()\n",
        "    total_val_loss = 0\n",
        "    all_predictions_val = []\n",
        "    all_labels_val = []\n",
        "    for batch in tqdm(val_loader):\n",
        "        batch = {k: v.to(device) for k, v in batch.items()}\n",
        "        with torch.no_grad():\n",
        "            outputs = model(**batch)\n",
        "        loss = outputs.loss\n",
        "        total_val_loss += loss.item()\n",
        "\n",
        "        logits = outputs.logits\n",
        "        predictions = torch.argmax(logits, dim=-1)\n",
        "        labels = batch[\"labels\"]\n",
        "\n",
        "        all_predictions_val.extend(predictions.cpu().numpy())\n",
        "        all_labels_val.extend(labels.cpu().numpy())\n",
        "\n",
        "    # 검증 세트에 대한 평균 손실 계산\n",
        "    avg_val_loss = total_val_loss / len(val_loader)\n",
        "    val_losses.append(avg_val_loss)\n",
        "\n",
        "    # val F1-score 계산\n",
        "    val_f1 = f1_score(all_labels_val, all_predictions_val, average='weighted')\n",
        "    val_f1_scores.append(val_f1)\n",
        "\n",
        "    # 클래스별 F1-score 계산\n",
        "    class_report = classification_report(all_labels_val, all_predictions_val)\n",
        "    print(f\"Epoch {epoch+1}, Training Loss: {epoch_loss}, Train F1 Score: {train_f1}, Validation Loss: {avg_val_loss}, Validation F1 Score: {val_f1}\")\n",
        "    print(\"Classification Report:\")\n",
        "    print(class_report)\n",
        "\n",
        "    # 검증 손실이 이전 최고값보다 낮으면 모델 저장하고 최고값 업데이트\n",
        "    if avg_val_loss < best_val_loss:\n",
        "        best_val_loss = avg_val_loss\n",
        "        torch.save(model.state_dict(), \"best_model.pt\")\n",
        "        early_stopping_counter = 0  # 검증 손실이 개선되면 카운터 초기화\n",
        "    else:\n",
        "        early_stopping_counter += 1  # 검증 손실이 개선되지 않으면 카운터 증가\n",
        "        if early_stopping_counter >= patience:\n",
        "            print(\"Early stopping.\")\n",
        "            break\n",
        "\n",
        "# 그래프로 나타내기\n",
        "epochs = range(1, len(train_losses) + 1)\n",
        "\n",
        "plt.figure(figsize=(10, 5))\n",
        "\n",
        "plt.subplot(1, 2, 1)\n",
        "plt.plot(epochs, train_losses, 'b', label='Training loss')\n",
        "plt.plot(epochs, val_losses, 'r', label='Validation loss')\n",
        "plt.title('Training and Validation Loss')\n",
        "plt.xlabel('Epochs')\n",
        "plt.ylabel('Loss')\n",
        "plt.legend()\n",
        "\n",
        "plt.subplot(1, 2, 2)\n",
        "plt.plot(epochs, train_f1_scores, 'g', label='Train F1 Score')\n",
        "plt.plot(epochs, val_f1_scores, 'y', label='Validation F1 Score')\n",
        "plt.title('F1 Score')\n",
        "plt.xlabel('Epochs')\n",
        "plt.ylabel('F1 Score')\n",
        "plt.legend()\n",
        "\n",
        "plt.tight_layout()\n",
        "plt.show()\n"
      ],
      "metadata": {
        "colab": {
          "base_uri": "https://localhost:8080/",
          "height": 1000
        },
        "id": "sY7wR4mTA_PR",
        "outputId": "871bc5d3-d092-4ee6-e784-fb0c3bc066d1"
      },
      "execution_count": 18,
      "outputs": [
        {
          "output_type": "stream",
          "name": "stderr",
          "text": [
            "100%|██████████| 839/839 [07:31<00:00,  1.86it/s]\n",
            "100%|██████████| 360/360 [01:09<00:00,  5.19it/s]\n"
          ]
        },
        {
          "output_type": "stream",
          "name": "stdout",
          "text": [
            "Epoch 1, Training Loss: 0.7554465476978521, Train F1 Score: 0.738260029118475, Validation Loss: 0.5436906821792945, Validation F1 Score: 0.7888712261134518\n",
            "Classification Report:\n",
            "              precision    recall  f1-score   support\n",
            "\n",
            "           0       1.00      1.00      1.00       900\n",
            "           1       0.38      0.97      0.55       676\n",
            "           2       0.82      0.23      0.36       590\n",
            "           3       1.00      1.00      1.00       523\n",
            "           4       1.00      0.97      0.98       512\n",
            "           5       0.97      0.99      0.98       504\n",
            "           6       0.99      0.93      0.96       484\n",
            "           7       0.83      0.35      0.49       432\n",
            "           8       0.95      0.84      0.89       419\n",
            "           9       0.87      0.50      0.64       365\n",
            "          10       0.93      0.59      0.72       344\n",
            "\n",
            "    accuracy                           0.79      5749\n",
            "   macro avg       0.89      0.76      0.78      5749\n",
            "weighted avg       0.88      0.79      0.79      5749\n",
            "\n"
          ]
        },
        {
          "output_type": "stream",
          "name": "stderr",
          "text": [
            "100%|██████████| 839/839 [07:31<00:00,  1.86it/s]\n",
            "100%|██████████| 360/360 [01:09<00:00,  5.17it/s]\n"
          ]
        },
        {
          "output_type": "stream",
          "name": "stdout",
          "text": [
            "Epoch 2, Training Loss: 0.3302877381170908, Train F1 Score: 0.8902586696881591, Validation Loss: 0.3038710295303544, Validation F1 Score: 0.903065915335675\n",
            "Classification Report:\n",
            "              precision    recall  f1-score   support\n",
            "\n",
            "           0       1.00      1.00      1.00       900\n",
            "           1       0.91      0.72      0.80       676\n",
            "           2       0.75      0.74      0.75       590\n",
            "           3       1.00      1.00      1.00       523\n",
            "           4       0.98      1.00      0.99       512\n",
            "           5       1.00      0.98      0.99       504\n",
            "           6       1.00      0.94      0.96       484\n",
            "           7       0.66      0.89      0.76       432\n",
            "           8       0.94      0.93      0.94       419\n",
            "           9       0.73      0.91      0.81       365\n",
            "          10       0.95      0.78      0.86       344\n",
            "\n",
            "    accuracy                           0.90      5749\n",
            "   macro avg       0.90      0.90      0.90      5749\n",
            "weighted avg       0.91      0.90      0.90      5749\n",
            "\n"
          ]
        },
        {
          "output_type": "stream",
          "name": "stderr",
          "text": [
            "100%|██████████| 839/839 [07:31<00:00,  1.86it/s]\n",
            "100%|██████████| 360/360 [01:09<00:00,  5.18it/s]\n"
          ]
        },
        {
          "output_type": "stream",
          "name": "stdout",
          "text": [
            "Epoch 3, Training Loss: 0.15207077685690287, Train F1 Score: 0.9521636394339082, Validation Loss: 0.22622414780214764, Validation F1 Score: 0.9303977734632467\n",
            "Classification Report:\n",
            "              precision    recall  f1-score   support\n",
            "\n",
            "           0       1.00      1.00      1.00       900\n",
            "           1       0.92      0.86      0.89       676\n",
            "           2       0.77      0.80      0.78       590\n",
            "           3       1.00      1.00      1.00       523\n",
            "           4       0.98      1.00      0.99       512\n",
            "           5       1.00      0.98      0.99       504\n",
            "           6       0.99      0.96      0.97       484\n",
            "           7       0.83      0.88      0.85       432\n",
            "           8       0.95      0.94      0.94       419\n",
            "           9       0.84      0.89      0.87       365\n",
            "          10       0.92      0.88      0.90       344\n",
            "\n",
            "    accuracy                           0.93      5749\n",
            "   macro avg       0.93      0.93      0.93      5749\n",
            "weighted avg       0.93      0.93      0.93      5749\n",
            "\n"
          ]
        },
        {
          "output_type": "stream",
          "name": "stderr",
          "text": [
            "100%|██████████| 839/839 [07:31<00:00,  1.86it/s]\n",
            "100%|██████████| 360/360 [01:09<00:00,  5.17it/s]\n"
          ]
        },
        {
          "output_type": "stream",
          "name": "stdout",
          "text": [
            "Epoch 4, Training Loss: 0.07710592059531783, Train F1 Score: 0.9768344947249576, Validation Loss: 0.24558494335586956, Validation F1 Score: 0.9370208483351891\n",
            "Classification Report:\n",
            "              precision    recall  f1-score   support\n",
            "\n",
            "           0       1.00      1.00      1.00       900\n",
            "           1       0.90      0.88      0.89       676\n",
            "           2       0.81      0.80      0.80       590\n",
            "           3       1.00      1.00      1.00       523\n",
            "           4       0.98      1.00      0.99       512\n",
            "           5       1.00      0.98      0.99       504\n",
            "           6       0.99      0.96      0.98       484\n",
            "           7       0.87      0.89      0.88       432\n",
            "           8       0.99      0.92      0.95       419\n",
            "           9       0.79      0.95      0.86       365\n",
            "          10       0.95      0.89      0.92       344\n",
            "\n",
            "    accuracy                           0.94      5749\n",
            "   macro avg       0.93      0.93      0.93      5749\n",
            "weighted avg       0.94      0.94      0.94      5749\n",
            "\n"
          ]
        },
        {
          "output_type": "stream",
          "name": "stderr",
          "text": [
            "100%|██████████| 839/839 [07:31<00:00,  1.86it/s]\n",
            "100%|██████████| 360/360 [01:09<00:00,  5.17it/s]\n"
          ]
        },
        {
          "output_type": "stream",
          "name": "stdout",
          "text": [
            "Epoch 5, Training Loss: 0.06382186356440733, Train F1 Score: 0.9797330803380785, Validation Loss: 0.27329488937854574, Validation F1 Score: 0.9370136424178876\n",
            "Classification Report:\n",
            "              precision    recall  f1-score   support\n",
            "\n",
            "           0       1.00      1.00      1.00       900\n",
            "           1       0.91      0.88      0.89       676\n",
            "           2       0.82      0.80      0.81       590\n",
            "           3       1.00      1.00      1.00       523\n",
            "           4       0.98      0.99      0.99       512\n",
            "           5       0.99      0.99      0.99       504\n",
            "           6       0.99      0.95      0.97       484\n",
            "           7       0.77      0.92      0.84       432\n",
            "           8       0.97      0.95      0.96       419\n",
            "           9       0.93      0.88      0.91       365\n",
            "          10       0.93      0.90      0.91       344\n",
            "\n",
            "    accuracy                           0.94      5749\n",
            "   macro avg       0.93      0.93      0.93      5749\n",
            "weighted avg       0.94      0.94      0.94      5749\n",
            "\n"
          ]
        },
        {
          "output_type": "stream",
          "name": "stderr",
          "text": [
            "100%|██████████| 839/839 [07:31<00:00,  1.86it/s]\n",
            "100%|██████████| 360/360 [01:09<00:00,  5.18it/s]\n"
          ]
        },
        {
          "output_type": "stream",
          "name": "stdout",
          "text": [
            "Epoch 6, Training Loss: 0.046733169716184, Train F1 Score: 0.9850263529210792, Validation Loss: 0.2482052051151792, Validation F1 Score: 0.9412300372890479\n",
            "Classification Report:\n",
            "              precision    recall  f1-score   support\n",
            "\n",
            "           0       1.00      1.00      1.00       900\n",
            "           1       0.86      0.93      0.89       676\n",
            "           2       0.81      0.84      0.82       590\n",
            "           3       1.00      1.00      1.00       523\n",
            "           4       0.98      0.99      0.99       512\n",
            "           5       0.99      0.98      0.99       504\n",
            "           6       0.98      0.97      0.97       484\n",
            "           7       0.93      0.84      0.88       432\n",
            "           8       0.97      0.95      0.96       419\n",
            "           9       0.93      0.88      0.90       365\n",
            "          10       0.90      0.92      0.91       344\n",
            "\n",
            "    accuracy                           0.94      5749\n",
            "   macro avg       0.94      0.94      0.94      5749\n",
            "weighted avg       0.94      0.94      0.94      5749\n",
            "\n"
          ]
        },
        {
          "output_type": "stream",
          "name": "stderr",
          "text": [
            "100%|██████████| 839/839 [07:31<00:00,  1.86it/s]\n",
            "100%|██████████| 360/360 [01:09<00:00,  5.19it/s]\n"
          ]
        },
        {
          "output_type": "stream",
          "name": "stdout",
          "text": [
            "Epoch 7, Training Loss: 0.045737179605339136, Train F1 Score: 0.9849401091822657, Validation Loss: 0.2520915587768387, Validation F1 Score: 0.9428281702461863\n",
            "Classification Report:\n",
            "              precision    recall  f1-score   support\n",
            "\n",
            "           0       1.00      1.00      1.00       900\n",
            "           1       0.92      0.87      0.90       676\n",
            "           2       0.78      0.86      0.82       590\n",
            "           3       1.00      1.00      1.00       523\n",
            "           4       0.98      1.00      0.99       512\n",
            "           5       1.00      0.98      0.99       504\n",
            "           6       1.00      0.97      0.98       484\n",
            "           7       0.88      0.89      0.88       432\n",
            "           8       0.97      0.94      0.95       419\n",
            "           9       0.95      0.89      0.92       365\n",
            "          10       0.88      0.94      0.91       344\n",
            "\n",
            "    accuracy                           0.94      5749\n",
            "   macro avg       0.94      0.94      0.94      5749\n",
            "weighted avg       0.94      0.94      0.94      5749\n",
            "\n"
          ]
        },
        {
          "output_type": "stream",
          "name": "stderr",
          "text": [
            "100%|██████████| 839/839 [07:31<00:00,  1.86it/s]\n",
            "100%|██████████| 360/360 [01:09<00:00,  5.18it/s]\n"
          ]
        },
        {
          "output_type": "stream",
          "name": "stdout",
          "text": [
            "Epoch 8, Training Loss: 0.03869157257822594, Train F1 Score: 0.9873287708033975, Validation Loss: 0.27612900221124115, Validation F1 Score: 0.9404452268590912\n",
            "Classification Report:\n",
            "              precision    recall  f1-score   support\n",
            "\n",
            "           0       1.00      1.00      1.00       900\n",
            "           1       0.94      0.83      0.88       676\n",
            "           2       0.78      0.86      0.82       590\n",
            "           3       1.00      1.00      1.00       523\n",
            "           4       0.98      0.99      0.99       512\n",
            "           5       0.99      0.99      0.99       504\n",
            "           6       1.00      0.96      0.98       484\n",
            "           7       0.83      0.91      0.86       432\n",
            "           8       0.98      0.95      0.96       419\n",
            "           9       0.90      0.92      0.91       365\n",
            "          10       0.92      0.92      0.92       344\n",
            "\n",
            "    accuracy                           0.94      5749\n",
            "   macro avg       0.94      0.94      0.94      5749\n",
            "weighted avg       0.94      0.94      0.94      5749\n",
            "\n",
            "Early stopping.\n"
          ]
        },
        {
          "output_type": "display_data",
          "data": {
            "text/plain": [
              "<Figure size 1000x500 with 2 Axes>"
            ],
            "image/png": "[encoded data removed]"
          },
          "metadata": {}
        }
      ]
    },
    {
      "cell_type": "code",
      "source": [
        "# 검증 세트를 이용한 모델 평가\n",
        "model.eval()\n",
        "total_eval_accuracy = 0\n",
        "for batch in tqdm(val_loader):\n",
        "    batch = {k: v.to(device) for k, v in batch.items()}\n",
        "    with torch.no_grad():\n",
        "        outputs = model(**batch)\n",
        "\n",
        "    logits = outputs.logits\n",
        "    predictions = torch.argmax(logits, dim=-1)\n",
        "    labels = batch[\"labels\"]\n",
        "\n",
        "    # 정확도 계산\n",
        "    accuracy = (predictions == labels).cpu().numpy().mean() * 100\n",
        "    total_eval_accuracy += accuracy\n",
        "\n",
        "# 에폭당 평균 검증 정확도 계산\n",
        "avg_val_accuracy = total_eval_accuracy / len(val_loader)\n",
        "print(f\"Validation Accuracy: {avg_val_accuracy:.2f}%\")"
      ],
      "metadata": {
        "id": "dEAWRhgS_8RJ",
        "colab": {
          "base_uri": "https://localhost:8080/"
        },
        "outputId": "a3a39469-f9d5-43ff-e23a-b70560a54449"
      },
      "execution_count": 17,
      "outputs": [
        {
          "output_type": "stream",
          "name": "stderr",
          "text": [
            "100%|██████████| 20/20 [00:05<00:00,  3.50it/s]"
          ]
        },
        {
          "output_type": "stream",
          "name": "stdout",
          "text": [
            "Validation Accuracy: 100.00%\n"
          ]
        },
        {
          "output_type": "stream",
          "name": "stderr",
          "text": [
            "\n"
          ]
        }
      ]
    }
  ]
}