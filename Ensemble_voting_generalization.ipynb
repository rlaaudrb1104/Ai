{
  "nbformat": 4,
  "nbformat_minor": 0,
  "metadata": {
    "colab": {
      "provenance": [],
      "gpuType": "A100",
      "include_colab_link": true
    },
    "kernelspec": {
      "name": "python3",
      "display_name": "Python 3"
    },
    "language_info": {
      "name": "python"
    },
    "accelerator": "GPU"
  },
  "cells": [
    {
      "cell_type": "markdown",
      "metadata": {
        "id": "view-in-github",
        "colab_type": "text"
      },
      "source": [
        "<a href=\"https://colab.research.google.com/github/rlaaudrb1104/Ai/blob/PJH/Ensemble_voting_generalization.ipynb\" target=\"_parent\"><img src=\"https://colab.research.google.com/assets/colab-badge.svg\" alt=\"Open In Colab\"/></a>"
      ]
    },
    {
      "cell_type": "code",
      "source": [
        "import torch\n",
        "import torch.nn as nn\n",
        "from transformers import AutoTokenizer, AutoModelForSequenceClassification"
      ],
      "metadata": {
        "id": "-LtnJPqJFnrA"
      },
      "execution_count": 34,
      "outputs": []
    },
    {
      "cell_type": "code",
      "source": [
        "from google.colab import drive\n",
        "drive.mount('/content/drive')"
      ],
      "metadata": {
        "colab": {
          "base_uri": "https://localhost:8080/"
        },
        "id": "OgV0P4QgiWC7",
        "outputId": "d7f93b6e-a2fd-4a7b-bd18-e8debace571b"
      },
      "execution_count": 35,
      "outputs": [
        {
          "output_type": "stream",
          "name": "stdout",
          "text": [
            "Drive already mounted at /content/drive; to attempt to forcibly remount, call drive.mount(\"/content/drive\", force_remount=True).\n"
          ]
        }
      ]
    },
    {
      "cell_type": "code",
      "source": [
        "!pip install datasets\n",
        "!pip install torch\n",
        "!pip install tqdm"
      ],
      "metadata": {
        "colab": {
          "base_uri": "https://localhost:8080/"
        },
        "id": "yJ_xn1z_Cyqs",
        "outputId": "127a706b-942b-4a68-c1f6-f2a8933bab92"
      },
      "execution_count": 36,
      "outputs": [
        {
          "output_type": "stream",
          "name": "stdout",
          "text": [
            "Requirement already satisfied: datasets in /usr/local/lib/python3.10/dist-packages (2.19.1)\n",
            "Requirement already satisfied: filelock in /usr/local/lib/python3.10/dist-packages (from datasets) (3.14.0)\n",
            "Requirement already satisfied: numpy>=1.17 in /usr/local/lib/python3.10/dist-packages (from datasets) (1.25.2)\n",
            "Requirement already satisfied: pyarrow>=12.0.0 in /usr/local/lib/python3.10/dist-packages (from datasets) (14.0.2)\n",
            "Requirement already satisfied: pyarrow-hotfix in /usr/local/lib/python3.10/dist-packages (from datasets) (0.6)\n",
            "Requirement already satisfied: dill<0.3.9,>=0.3.0 in /usr/local/lib/python3.10/dist-packages (from datasets) (0.3.8)\n",
            "Requirement already satisfied: pandas in /usr/local/lib/python3.10/dist-packages (from datasets) (2.0.3)\n",
            "Requirement already satisfied: requests>=2.19.0 in /usr/local/lib/python3.10/dist-packages (from datasets) (2.31.0)\n",
            "Requirement already satisfied: tqdm>=4.62.1 in /usr/local/lib/python3.10/dist-packages (from datasets) (4.66.4)\n",
            "Requirement already satisfied: xxhash in /usr/local/lib/python3.10/dist-packages (from datasets) (3.4.1)\n",
            "Requirement already satisfied: multiprocess in /usr/local/lib/python3.10/dist-packages (from datasets) (0.70.16)\n",
            "Requirement already satisfied: fsspec[http]<=2024.3.1,>=2023.1.0 in /usr/local/lib/python3.10/dist-packages (from datasets) (2023.6.0)\n",
            "Requirement already satisfied: aiohttp in /usr/local/lib/python3.10/dist-packages (from datasets) (3.9.5)\n",
            "Requirement already satisfied: huggingface-hub>=0.21.2 in /usr/local/lib/python3.10/dist-packages (from datasets) (0.23.0)\n",
            "Requirement already satisfied: packaging in /usr/local/lib/python3.10/dist-packages (from datasets) (24.0)\n",
            "Requirement already satisfied: pyyaml>=5.1 in /usr/local/lib/python3.10/dist-packages (from datasets) (6.0.1)\n",
            "Requirement already satisfied: aiosignal>=1.1.2 in /usr/local/lib/python3.10/dist-packages (from aiohttp->datasets) (1.3.1)\n",
            "Requirement already satisfied: attrs>=17.3.0 in /usr/local/lib/python3.10/dist-packages (from aiohttp->datasets) (23.2.0)\n",
            "Requirement already satisfied: frozenlist>=1.1.1 in /usr/local/lib/python3.10/dist-packages (from aiohttp->datasets) (1.4.1)\n",
            "Requirement already satisfied: multidict<7.0,>=4.5 in /usr/local/lib/python3.10/dist-packages (from aiohttp->datasets) (6.0.5)\n",
            "Requirement already satisfied: yarl<2.0,>=1.0 in /usr/local/lib/python3.10/dist-packages (from aiohttp->datasets) (1.9.4)\n",
            "Requirement already satisfied: async-timeout<5.0,>=4.0 in /usr/local/lib/python3.10/dist-packages (from aiohttp->datasets) (4.0.3)\n",
            "Requirement already satisfied: typing-extensions>=3.7.4.3 in /usr/local/lib/python3.10/dist-packages (from huggingface-hub>=0.21.2->datasets) (4.11.0)\n",
            "Requirement already satisfied: charset-normalizer<4,>=2 in /usr/local/lib/python3.10/dist-packages (from requests>=2.19.0->datasets) (3.3.2)\n",
            "Requirement already satisfied: idna<4,>=2.5 in /usr/local/lib/python3.10/dist-packages (from requests>=2.19.0->datasets) (3.7)\n",
            "Requirement already satisfied: urllib3<3,>=1.21.1 in /usr/local/lib/python3.10/dist-packages (from requests>=2.19.0->datasets) (2.0.7)\n",
            "Requirement already satisfied: certifi>=2017.4.17 in /usr/local/lib/python3.10/dist-packages (from requests>=2.19.0->datasets) (2024.2.2)\n",
            "Requirement already satisfied: python-dateutil>=2.8.2 in /usr/local/lib/python3.10/dist-packages (from pandas->datasets) (2.8.2)\n",
            "Requirement already satisfied: pytz>=2020.1 in /usr/local/lib/python3.10/dist-packages (from pandas->datasets) (2023.4)\n",
            "Requirement already satisfied: tzdata>=2022.1 in /usr/local/lib/python3.10/dist-packages (from pandas->datasets) (2024.1)\n",
            "Requirement already satisfied: six>=1.5 in /usr/local/lib/python3.10/dist-packages (from python-dateutil>=2.8.2->pandas->datasets) (1.16.0)\n",
            "Requirement already satisfied: torch in /usr/local/lib/python3.10/dist-packages (2.2.1+cu121)\n",
            "Requirement already satisfied: filelock in /usr/local/lib/python3.10/dist-packages (from torch) (3.14.0)\n",
            "Requirement already satisfied: typing-extensions>=4.8.0 in /usr/local/lib/python3.10/dist-packages (from torch) (4.11.0)\n",
            "Requirement already satisfied: sympy in /usr/local/lib/python3.10/dist-packages (from torch) (1.12)\n",
            "Requirement already satisfied: networkx in /usr/local/lib/python3.10/dist-packages (from torch) (3.3)\n",
            "Requirement already satisfied: jinja2 in /usr/local/lib/python3.10/dist-packages (from torch) (3.1.4)\n",
            "Requirement already satisfied: fsspec in /usr/local/lib/python3.10/dist-packages (from torch) (2023.6.0)\n",
            "Requirement already satisfied: nvidia-cuda-nvrtc-cu12==12.1.105 in /usr/local/lib/python3.10/dist-packages (from torch) (12.1.105)\n",
            "Requirement already satisfied: nvidia-cuda-runtime-cu12==12.1.105 in /usr/local/lib/python3.10/dist-packages (from torch) (12.1.105)\n",
            "Requirement already satisfied: nvidia-cuda-cupti-cu12==12.1.105 in /usr/local/lib/python3.10/dist-packages (from torch) (12.1.105)\n",
            "Requirement already satisfied: nvidia-cudnn-cu12==8.9.2.26 in /usr/local/lib/python3.10/dist-packages (from torch) (8.9.2.26)\n",
            "Requirement already satisfied: nvidia-cublas-cu12==12.1.3.1 in /usr/local/lib/python3.10/dist-packages (from torch) (12.1.3.1)\n",
            "Requirement already satisfied: nvidia-cufft-cu12==11.0.2.54 in /usr/local/lib/python3.10/dist-packages (from torch) (11.0.2.54)\n",
            "Requirement already satisfied: nvidia-curand-cu12==10.3.2.106 in /usr/local/lib/python3.10/dist-packages (from torch) (10.3.2.106)\n",
            "Requirement already satisfied: nvidia-cusolver-cu12==11.4.5.107 in /usr/local/lib/python3.10/dist-packages (from torch) (11.4.5.107)\n",
            "Requirement already satisfied: nvidia-cusparse-cu12==12.1.0.106 in /usr/local/lib/python3.10/dist-packages (from torch) (12.1.0.106)\n",
            "Requirement already satisfied: nvidia-nccl-cu12==2.19.3 in /usr/local/lib/python3.10/dist-packages (from torch) (2.19.3)\n",
            "Requirement already satisfied: nvidia-nvtx-cu12==12.1.105 in /usr/local/lib/python3.10/dist-packages (from torch) (12.1.105)\n",
            "Requirement already satisfied: triton==2.2.0 in /usr/local/lib/python3.10/dist-packages (from torch) (2.2.0)\n",
            "Requirement already satisfied: nvidia-nvjitlink-cu12 in /usr/local/lib/python3.10/dist-packages (from nvidia-cusolver-cu12==11.4.5.107->torch) (12.4.127)\n",
            "Requirement already satisfied: MarkupSafe>=2.0 in /usr/local/lib/python3.10/dist-packages (from jinja2->torch) (2.1.5)\n",
            "Requirement already satisfied: mpmath>=0.19 in /usr/local/lib/python3.10/dist-packages (from sympy->torch) (1.3.0)\n",
            "Requirement already satisfied: tqdm in /usr/local/lib/python3.10/dist-packages (4.66.4)\n"
          ]
        }
      ]
    },
    {
      "cell_type": "code",
      "source": [
        "import numpy as np\n",
        "from tqdm import tqdm\n",
        "from datasets import load_dataset\n",
        "from torch.utils.data import DataLoader\n",
        "from sklearn.metrics import classification_report, confusion_matrix\n",
        "import seaborn as sns\n",
        "import matplotlib.pyplot as plt"
      ],
      "metadata": {
        "id": "9Z77MsgVSZoS"
      },
      "execution_count": 37,
      "outputs": []
    },
    {
      "cell_type": "code",
      "source": [
        "# 데이터셋 로드\n",
        "dataset = load_dataset('csv', data_files='/content/drive/MyDrive/MSR+julite_Dive_final_train/MSR+julite+Div_final_train.csv')['train']"
      ],
      "metadata": {
        "id": "beo0_C8xjgeW"
      },
      "execution_count": 38,
      "outputs": []
    },
    {
      "cell_type": "code",
      "source": [
        "# 모델을 GPU로 이동\n",
        "device = torch.device('cuda' if torch.cuda.is_available() else 'cpu')\n",
        "model_codebert.to(device)\n",
        "model_graphcodebert.to(device)\n",
        "model_unixcoder.to(device)\n",
        "\n",
        "# 토크나이저 로드\n",
        "tokenizer = AutoTokenizer.from_pretrained(\"microsoft/graphcodebert-base\")"
      ],
      "metadata": {
        "id": "1oCu4k5ajjX5"
      },
      "execution_count": 39,
      "outputs": []
    },
    {
      "cell_type": "code",
      "source": [
        "# 데이터 토크나이징 및 포맷 설정\n",
        "def tokenize_function(examples):\n",
        "    return tokenizer(examples['code'], truncation=True, padding=\"max_length\", max_length=512)\n",
        "encoded_dataset = dataset.map(tokenize_function, batched=True)\n",
        "encoded_dataset.set_format('torch', columns=['input_ids', 'attention_mask', 'labels'])"
      ],
      "metadata": {
        "id": "Tb3EePa_jqNQ"
      },
      "execution_count": 40,
      "outputs": []
    },
    {
      "cell_type": "code",
      "source": [
        "# DataLoader 설정\n",
        "data_loader = DataLoader(encoded_dataset, batch_size=16, drop_last=True)"
      ],
      "metadata": {
        "id": "UkREGLoKjuTu"
      },
      "execution_count": 41,
      "outputs": []
    },
    {
      "cell_type": "code",
      "source": [
        "# 클래스 라벨 정의\n",
        "class_labels = {\n",
        "    0: \"안전한 코드입니다.\",\n",
        "    1: \"CWE-119 취약점\\nImproper Restriction of Operations within the Bounds of a Memory Buffer\",\n",
        "    2: \"CWE-20 취약점\\nImproper Input Validation\",\n",
        "    3: \"CWE-125 취약점\\nOut-of-bounds Read\",\n",
        "    4: \"CWE-787 취약점\\nOut-of-bounds Write\",\n",
        "    5: \"CWE-415 취약점\\nDouble Free\",\n",
        "    6: \"CWE-399 취약점\\nResource Management Errors\",\n",
        "    7: \"CWE-416 취약점\\nUse after Free\",\n",
        "    8: \"CWE-476 취약점\\nNULL Pointer Dereference\",\n",
        "    9: \"CWE-190 취약점\\nInteger Overflow or Wraparound\"\n",
        "}"
      ],
      "metadata": {
        "id": "au2mJVJ6_CmX"
      },
      "execution_count": 42,
      "outputs": []
    },
    {
      "cell_type": "code",
      "source": [
        "# 새로운 앙상블 모델 클래스 정의\n",
        "class EnsembleModel(nn.Module):\n",
        "    def __init__(self, models):\n",
        "        super(EnsembleModel, self).__init__()\n",
        "        self.models = models\n",
        "\n",
        "    def forward(self, input_ids, attention_mask):\n",
        "        logits_sum = None\n",
        "        for model in self.models:\n",
        "            model.eval()\n",
        "            with torch.no_grad():\n",
        "                outputs = model(input_ids=input_ids, attention_mask=attention_mask)\n",
        "                logits = outputs.logits\n",
        "                if logits_sum is None:\n",
        "                    logits_sum = logits\n",
        "                else:\n",
        "                    logits_sum += logits\n",
        "        logits_avg = logits_sum / len(self.models)\n",
        "        return logits_avg"
      ],
      "metadata": {
        "id": "8c5OSFHFjvxh"
      },
      "execution_count": 43,
      "outputs": []
    },
    {
      "cell_type": "code",
      "source": [
        "# 앙상블 모델 초기화 및 GPU로 이동\n",
        "ensemble_model = EnsembleModel([model_codebert, model_graphcodebert, model_unixcoder])\n",
        "ensemble_model.to(device)"
      ],
      "metadata": {
        "id": "rk7mzcMvjwcF",
        "colab": {
          "base_uri": "https://localhost:8080/"
        },
        "outputId": "166ef04d-df01-4b03-e4f7-867245a365b4"
      },
      "execution_count": 44,
      "outputs": [
        {
          "output_type": "execute_result",
          "data": {
            "text/plain": [
              "EnsembleModel()"
            ]
          },
          "metadata": {},
          "execution_count": 44
        }
      ]
    },
    {
      "cell_type": "code",
      "source": [
        "# 모델 저장\n",
        "torch.save(ensemble_model.state_dict(), \"/content/drive/MyDrive/models/ensemble_model.pth\")"
      ],
      "metadata": {
        "id": "vSA6jjjNE3DY"
      },
      "execution_count": 45,
      "outputs": []
    },
    {
      "cell_type": "code",
      "source": [
        "# 저장된 모델 로드 및 예측 함수\n",
        "def load_ensemble_model(model_paths, device):\n",
        "    models = []\n",
        "    for path in model_paths:\n",
        "        model = AutoModelForSequenceClassification.from_pretrained(path)\n",
        "        model.to(device)\n",
        "        models.append(model)\n",
        "    ensemble_model = EnsembleModel(models)\n",
        "    ensemble_model.load_state_dict(torch.load(\"/content/drive/MyDrive/models/ensemble_model.pth\"))\n",
        "    ensemble_model.to(device)\n",
        "    return ensemble_model"
      ],
      "metadata": {
        "id": "Hhw6khW9jzln"
      },
      "execution_count": 46,
      "outputs": []
    },
    {
      "cell_type": "code",
      "source": [
        "# 테스트 코드\n",
        "input_code = \"\"\"\n",
        "#include <stdio.h>\n",
        "#include <stdlib.h>\n",
        "#define BUFSIZE1 512\n",
        "#define BUFSIZE2 ((BUFSIZE1/2) - 8)\n",
        "\n",
        "int main(int argc, char **argv) {\n",
        "    char *buf1R1;\n",
        "    char *buf2R1;\n",
        "    char *buf1R2;\n",
        "    buf1R1 = (char *) malloc(BUFSIZE2);\n",
        "    buf2R1 = (char *) malloc(BUFSIZE2);\n",
        "    free(buf1R1);\n",
        "    free(buf2R1);\n",
        "    buf1R2 = (char *) malloc(BUFSIZE1);\n",
        "    strncpy(buf1R2, argv[1], BUFSIZE1-1);\n",
        "    free(buf2R1);\n",
        "    free(buf1R2);\n",
        "}\n",
        "\"\"\""
      ],
      "metadata": {
        "id": "s4YFoyZLj06a"
      },
      "execution_count": 47,
      "outputs": []
    },
    {
      "cell_type": "code",
      "source": [
        "# 저장된 모델 로드\n",
        "model_paths = [\"/content/drive/MyDrive/models/codebert\", \"/content/drive/MyDrive/models/graphcodebert\", \"/content/drive/MyDrive/models/unixcoder\"]\n",
        "ensemble_model = load_ensemble_model(model_paths, device)"
      ],
      "metadata": {
        "id": "UW6V3gkp9dlG"
      },
      "execution_count": 48,
      "outputs": []
    },
    {
      "cell_type": "code",
      "source": [
        "# 저장된 모델 로드 및 예측 함수\n",
        "def load_ensemble_model(model_paths, device):\n",
        "    models = []\n",
        "    for path in model_paths:\n",
        "        model = AutoModelForSequenceClassification.from_pretrained(path)\n",
        "        model.to(device)\n",
        "        models.append(model)\n",
        "    ensemble_model = EnsembleModel(models)\n",
        "    ensemble_model.load_state_dict(torch.load(\"/content/drive/MyDrive/models/ensemble_model.pth\"))\n",
        "    ensemble_model.to(device)\n",
        "    return ensemble_model"
      ],
      "metadata": {
        "id": "4Zvq7LK3_Ekb"
      },
      "execution_count": 50,
      "outputs": []
    },
    {
      "cell_type": "code",
      "source": [
        "# 입력 코드에 대한 예측 수행 함수\n",
        "def predict_class(input_code, ensemble_model, tokenizer, device):\n",
        "    # 입력 코드를 토크나이징하고 모델 입력 형식으로 변환\n",
        "    inputs = tokenizer(input_code, return_tensors=\"pt\", padding=\"max_length\", truncation=True, max_length=512)\n",
        "    inputs = {k: v.to(device) for k, v in inputs.items()}\n",
        "\n",
        "    softmax = torch.nn.Softmax(dim=1)\n",
        "    ensemble_model.eval()\n",
        "    with torch.no_grad():\n",
        "        logits = ensemble_model(**inputs)\n",
        "        probs = softmax(logits)\n",
        "\n",
        "    predicted_class = torch.argmax(probs, dim=1).cpu().item()\n",
        "    avg_class_probs = {i: probs[0][i].item() for i in range(probs.size(1))}\n",
        "\n",
        "    return predicted_class, avg_class_probs\n"
      ],
      "metadata": {
        "id": "fFFzHjIfFBWy"
      },
      "execution_count": 51,
      "outputs": []
    },
    {
      "cell_type": "code",
      "source": [
        "# 테스트 코드\n",
        "input_code = \"\"\"\n",
        "char * copy_input(char *user_supplied_string){\n",
        "int i, dst_index;\n",
        "char *dst_buf = (char*)malloc(4*sizeof(char) * MAX_SIZE);\n",
        "if ( MAX_SIZE <= strlen(user_supplied_string) ){\n",
        "die(\"user string too long, die evil hacker!\");\n",
        "}\n",
        "dst_index = 0;\n",
        "for ( i = 0; i < strlen(user_supplied_string); i++ ){\n",
        "if( '&' == user_supplied_string[i] ){\n",
        "dst_buf[dst_index++] = '&';\n",
        "dst_buf[dst_index++] = 'a';\n",
        "dst_buf[dst_index++] = 'm';\n",
        "dst_buf[dst_index++] = 'p';\n",
        "dst_buf[dst_index++] = ';';\n",
        "}\n",
        "else if ('<' == user_supplied_string[i] ){\n",
        "\n",
        "/* encode to &lt; */\n",
        "}\n",
        "else dst_buf[dst_index++] = user_supplied_string[i];\n",
        "}\n",
        "return dst_buf;\n",
        "}\n",
        "\"\"\""
      ],
      "metadata": {
        "id": "ZXMv71DCE_90"
      },
      "execution_count": 57,
      "outputs": []
    },
    {
      "cell_type": "code",
      "source": [
        "# 저장된 모델 로드\n",
        "model_paths = [\"/content/drive/MyDrive/models/codebert\", \"/content/drive/MyDrive/models/graphcodebert\", \"/content/drive/MyDrive/models/unixcoder\"]\n",
        "ensemble_model = load_ensemble_model(model_paths, device)"
      ],
      "metadata": {
        "id": "QQVT7uorGAcX"
      },
      "execution_count": 58,
      "outputs": []
    },
    {
      "cell_type": "code",
      "source": [
        "# 예측 수행\n",
        "predicted_label, predicted_probs = predict_class(input_code, ensemble_model, tokenizer, device)\n",
        "predicted_class_label_text = class_labels[predicted_label]\n",
        "print(f\"The predicted CWE ID is: {predicted_class_label_text}\")\n"
      ],
      "metadata": {
        "colab": {
          "base_uri": "https://localhost:8080/"
        },
        "id": "DzTs_m6zGCvD",
        "outputId": "cb80cd7a-f8a9-4068-93e9-5e2e5e22c26d"
      },
      "execution_count": 59,
      "outputs": [
        {
          "output_type": "stream",
          "name": "stdout",
          "text": [
            "The predicted CWE ID is: CWE-119 취약점\n",
            "Improper Restriction of Operations within the Bounds of a Memory Buffer\n"
          ]
        }
      ]
    },
    {
      "cell_type": "code",
      "source": [
        "# 각 클래스의 예측 확률 출력\n",
        "for cls, label in class_labels.items():\n",
        "    if cls in predicted_probs:\n",
        "        print(f\"Probability of {label}: {predicted_probs[cls]:.4f}\")"
      ],
      "metadata": {
        "colab": {
          "base_uri": "https://localhost:8080/"
        },
        "id": "W5dLB3EpGDfF",
        "outputId": "4d8a20ce-0f6b-455b-ded1-883a2077e127"
      },
      "execution_count": 60,
      "outputs": [
        {
          "output_type": "stream",
          "name": "stdout",
          "text": [
            "Probability of 안전한 코드입니다.: 0.0048\n",
            "Probability of CWE-119 취약점\n",
            "Improper Restriction of Operations within the Bounds of a Memory Buffer: 0.5151\n",
            "Probability of CWE-20 취약점\n",
            "Improper Input Validation: 0.1344\n",
            "Probability of CWE-125 취약점\n",
            "Out-of-bounds Read: 0.0362\n",
            "Probability of CWE-787 취약점\n",
            "Out-of-bounds Write: 0.2634\n",
            "Probability of CWE-415 취약점\n",
            "Double Free: 0.0044\n",
            "Probability of CWE-399 취약점\n",
            "Resource Management Errors: 0.0041\n",
            "Probability of CWE-416 취약점\n",
            "Use after Free: 0.0028\n",
            "Probability of CWE-476 취약점\n",
            "NULL Pointer Dereference: 0.0054\n",
            "Probability of CWE-190 취약점\n",
            "Integer Overflow or Wraparound: 0.0294\n"
          ]
        }
      ]
    }
  ]
}